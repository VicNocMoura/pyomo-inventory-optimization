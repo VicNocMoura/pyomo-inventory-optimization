{
 "cells": [
  {
   "cell_type": "code",
   "execution_count": 1,
   "metadata": {},
   "outputs": [],
   "source": [
    "import pyomo.environ as pe\n",
    "import pandas as pd\n",
    "import numpy as np"
   ]
  },
  {
   "attachments": {},
   "cell_type": "markdown",
   "metadata": {},
   "source": [
    "## Data"
   ]
  },
  {
   "cell_type": "code",
   "execution_count": 2,
   "metadata": {},
   "outputs": [],
   "source": [
    "# Transportation costs\n",
    "trans_costs = {\n",
    "    ('S1','DC1'): 0.0,\n",
    "    ('S1','DC2'): 0.0,\n",
    "    ('DC1','DC2'):0.003,\n",
    "    ('DC1','RET1'):0.002,\n",
    "    ('DC1','CUS1'):0.287,\n",
    "    ('DC1','CUS2'):0.288,\n",
    "    ('DC2','DC1'):0.065,\n",
    "    ('DC2','RET1'):0.043,\n",
    "    ('DC2','RET2'):0.052,\n",
    "    ('DC2','CUS1'):0.287,\n",
    "    ('DC2','CUS2'):0.302,\n",
    "    ('RET1','RET2'):0.101,\n",
    "    ('RET1','CUS1'):0.284,\n",
    "    ('RET1','CUS2'):0.299,\n",
    "    ('RET1','CUS3'):0.0001,\n",
    "    ('RET2','RET1'):0.025,\n",
    "    ('RET2','CUS1'):0.287,\n",
    "    ('RET2','CUS2'):0.287,\n",
    "    ('RET2','CUS4'):0.0001\n",
    "    }"
   ]
  },
  {
   "cell_type": "code",
   "execution_count": 3,
   "metadata": {},
   "outputs": [],
   "source": [
    "supply = ['S1']"
   ]
  },
  {
   "cell_type": "code",
   "execution_count": 4,
   "metadata": {},
   "outputs": [],
   "source": [
    "# Warehouse\n",
    "wh = {\n",
    "    'DC1':{'HC':0.0165,'InitInv':2000,'MaxInv':3000,'L':7},\n",
    "    'DC2':{'HC':0.1,'InitInv':2000,'MaxInv':3000,'L':7}\n",
    "}"
   ]
  },
  {
   "cell_type": "code",
   "execution_count": 5,
   "metadata": {},
   "outputs": [],
   "source": [
    "# Retail\n",
    "rt = {\n",
    "    'RET1':{'HC':0.1,'InitInv':500,'MaxInv':800,'L':3},\n",
    "    'RET2':{'HC':0.1,'InitInv':500,'MaxInv':800,'L':3}\n",
    "}"
   ]
  },
  {
   "cell_type": "code",
   "execution_count": 6,
   "metadata": {},
   "outputs": [],
   "source": [
    "# Customers\n",
    "cus = {\n",
    "   'CUS1':{'dd':245.06,'sigma2':3.455,'ST':1},\n",
    "   'CUS2':{'dd':82.5,'sigma2':2.627,'ST':1},\n",
    "   'CUS3':{'dd':56.53,'sigma2':6.814,'ST':0},\n",
    "   'CUS4':{'dd':36.32,'sigma2':3.349,'ST':0}\n",
    "}"
   ]
  },
  {
   "cell_type": "code",
   "execution_count": 7,
   "metadata": {},
   "outputs": [],
   "source": [
    "# tframe\n",
    "time = list(range(0,31))"
   ]
  },
  {
   "attachments": {},
   "cell_type": "markdown",
   "metadata": {},
   "source": [
    "## Model"
   ]
  },
  {
   "attachments": {},
   "cell_type": "markdown",
   "metadata": {},
   "source": [
    "### Base model (without police)"
   ]
  },
  {
   "cell_type": "code",
   "execution_count": 8,
   "metadata": {},
   "outputs": [],
   "source": [
    "model = pe.ConcreteModel()"
   ]
  },
  {
   "cell_type": "code",
   "execution_count": 9,
   "metadata": {},
   "outputs": [],
   "source": [
    "# Sets\n",
    "model.time = pe.Set(initialize = time)\n",
    "model.wh = pe.Set(initialize = wh.keys())\n",
    "model.rt = pe.Set(initialize = rt.keys())\n",
    "model.cus = pe.Set(initialize = cus.keys())\n",
    "model.supply = pe.Set(initialize = supply)\n",
    "# Tuples\n",
    "model.trans = pe.Set(initialize = trans_costs.keys())"
   ]
  },
  {
   "cell_type": "code",
   "execution_count": 10,
   "metadata": {},
   "outputs": [],
   "source": [
    "# Decision variables\n",
    "model.x = pe.Var(model.trans,model.time,domain = pe.NonNegativeReals)\n",
    "model.inv = pe.Var(model.wh.union(model.rt),model.time,domain = pe.NonNegativeReals)"
   ]
  },
  {
   "cell_type": "code",
   "execution_count": 11,
   "metadata": {},
   "outputs": [],
   "source": [
    "# Constraints\n",
    "def demand_constraint(model,c,t):\n",
    "    if t>0:\n",
    "        return sum(model.x[i,c,t] for i in model.rt if (i,c) in model.trans) == cus[c]['dd']\n",
    "    else:\n",
    "        return sum(model.x[i,c,t] for i in model.rt if (i,c) in model.trans) == 0.\n",
    "model.demand_constraint = pe.Constraint(model.cus,model.time,rule = demand_constraint)"
   ]
  },
  {
   "cell_type": "code",
   "execution_count": 12,
   "metadata": {},
   "outputs": [],
   "source": [
    "def inv_wh(model,j,t):\n",
    "    if t > 0:\n",
    "        return model.inv[j,t] == model.inv[j,t-1] + sum(model.x[ss,j,t] for ss in model.supply if (ss,j) in model.trans)\\\n",
    "             - sum(model.x[j,rt,t] for rt in model.rt if (j,rt) in model.trans) - sum(model.x[j,c,t] for c in model.cus if (j,c) in model.trans)\n",
    "    else:\n",
    "        return pe.Constraint.Skip\n",
    "model.inv_wh = pe.Constraint(model.wh,model.time,rule = inv_wh)"
   ]
  },
  {
   "cell_type": "code",
   "execution_count": 13,
   "metadata": {},
   "outputs": [],
   "source": [
    "def inv_wh_ini_end(model,j,t):\n",
    "    if t == 0 or t == time[-1]:\n",
    "        return model.inv[j,t] == wh[j]['InitInv']\n",
    "    else:\n",
    "        return pe.Constraint.Skip\n",
    "model.inv_wh_ini_end = pe.Constraint(model.wh,model.time,rule = inv_wh_ini_end)"
   ]
  },
  {
   "cell_type": "code",
   "execution_count": 14,
   "metadata": {},
   "outputs": [],
   "source": [
    "def inv_rt(model,k,t):\n",
    "    if t > 0:\n",
    "        return model.inv[k,t] == model.inv[k,t-1] + sum(model.x[wh,k,t] for wh in model.wh if (wh,k) in model.trans)\\\n",
    "            - sum(model.x[k,c,t] for c in model.cus if (k,c) in model.trans)\n",
    "    else:\n",
    "        return model.inv[k,t] == rt[k]['InitInv']\n",
    "model.inv_rt = pe.Constraint(model.rt,model.time,rule = inv_rt)"
   ]
  },
  {
   "cell_type": "code",
   "execution_count": 15,
   "metadata": {},
   "outputs": [],
   "source": [
    "def inv_rt_ini_end(model,k,t):\n",
    "    if t == 0 or t == time[-1]:\n",
    "        return model.inv[k,t] == rt[k]['InitInv']\n",
    "    else:\n",
    "        return pe.Constraint.Skip\n",
    "model.inv_rt_ini_end = pe.Constraint(model.rt,model.time,rule = inv_rt_ini_end)"
   ]
  },
  {
   "cell_type": "code",
   "execution_count": 16,
   "metadata": {},
   "outputs": [],
   "source": [
    "def max_inv_wh(model,i,t):\n",
    "    return model.inv[i,t] <= wh[i]['MaxInv']\n",
    "model.max_inv_wh = pe.Constraint(model.wh,model.time,rule = max_inv_wh)\n"
   ]
  },
  {
   "cell_type": "code",
   "execution_count": 17,
   "metadata": {},
   "outputs": [],
   "source": [
    "def max_inv_rt(model,i,t):\n",
    "    return model.inv[i,t] <= rt[i]['MaxInv']\n",
    "model.max_inv_rt = pe.Constraint(model.rt,model.time,rule = max_inv_rt)"
   ]
  },
  {
   "cell_type": "code",
   "execution_count": 18,
   "metadata": {},
   "outputs": [],
   "source": [
    "def objective(model):\n",
    "    tc_ss_wh = sum(trans_costs[i,j] * model.x[i,j,t] for i in model.supply for j in model.wh for t in model.time if (i,j) in model.trans)\n",
    "    tc_wh_rt = sum(trans_costs[j,k] * model.x[j,k,t] for j in model.wh for k in model.rt for t in model.time if (j,k) in model.trans )\n",
    "    tc_rt_cus = sum(trans_costs[k,c] * model.x[k,c,t] for k in model.rt for c in model.cus for t in model.time if (k,c) in model.trans )\n",
    "    tc_wh_cus = sum(trans_costs[j,c] * model.x[j,c,t] for j in model.wh for c in model.cus for t in model.time if (j,c) in model.trans )\n",
    "    hc_wh = sum(wh[j]['HC'] * model.inv[j,t] for j in model.wh for t in model.time ) \n",
    "    hc_rt = sum(rt[k]['HC'] * model.inv[k,t] for k in model.rt for t in model.time )\n",
    "    return  (tc_ss_wh + tc_wh_rt + tc_rt_cus + tc_wh_cus + hc_wh + hc_rt) \n",
    "model.objective = pe.Objective(rule = objective, sense = pe.minimize)"
   ]
  },
  {
   "cell_type": "code",
   "execution_count": 19,
   "metadata": {},
   "outputs": [],
   "source": [
    "optimizer = pe.SolverFactory('cbc')"
   ]
  },
  {
   "cell_type": "code",
   "execution_count": 20,
   "metadata": {},
   "outputs": [
    {
     "name": "stdout",
     "output_type": "stream",
     "text": [
      "Welcome to the CBC MILP Solver \n",
      "Version: 2.10.5 \n",
      "Build Date: Dec  8 2020 \n",
      "\n",
      "command line - /home/victormoura/anaconda3/envs/iff_opt/bin/cbc -threads 4 -printingOptions all -import /tmp/tmphoxzhi36.pyomo.lp -stat=1 -solve -solu /tmp/tmphoxzhi36.pyomo.soln (default strategy 1)\n",
      "threads was changed from 0 to 4\n",
      "Option for printingOptions changed from normal to all\n",
      "Presolve 120 (-259) rows, 326 (-262) columns and 592 (-509) elements\n",
      "Statistics for presolved model\n",
      "\n",
      "\n",
      "Problem has 120 rows, 326 columns (326 with objective) and 592 elements\n",
      "There are 60 singletons with objective \n",
      "Column breakdown:\n",
      "150 of type 0.0->inf, 176 of type 0.0->up, 0 of type lo->inf, \n",
      "0 of type lo->up, 0 of type free, 0 of type fixed, \n",
      "0 of type -inf->0.0, 0 of type -inf->up, 0 of type 0.0->1.0 \n",
      "Row breakdown:\n",
      "0 of type E 0.0, 0 of type E 1.0, 0 of type E -1.0, \n",
      "60 of type E other, 56 of type G 0.0, 0 of type G 1.0, \n",
      "4 of type G other, 0 of type L 0.0, 0 of type L 1.0, \n",
      "0 of type L other, 0 of type Range 0.0->1.0, 0 of type Range other, \n",
      "0 of type Free \n",
      "Presolve 120 (-259) rows, 326 (-262) columns and 592 (-509) elements\n",
      "Perturbing problem by 0.001% of 0.287 - largest nonzero change 5.0437489e-05 ( 2.3122374%) - largest zero change 0\n",
      "0  Obj 3511.7629 Primal inf 17386.38 (62) Dual inf 0.088831806 (30)\n",
      "74  Obj 4384.7763\n",
      "Optimal - objective value 4383.5933\n",
      "After Postsolve, objective 4383.5933, infeasibilities - dual 0 (0), primal 0 (0)\n",
      "Optimal objective 4383.593285 - 74 iterations time 0.002, Presolve 0.00\n",
      "Total time (CPU seconds):       0.00   (Wallclock seconds):       0.02\n",
      "\n"
     ]
    }
   ],
   "source": [
    "results = optimizer.solve(model,options = {\"threads\":4},tee = True)"
   ]
  },
  {
   "cell_type": "code",
   "execution_count": 21,
   "metadata": {},
   "outputs": [
    {
     "name": "stderr",
     "output_type": "stream",
     "text": [
      "/tmp/ipykernel_5359/3463219285.py:12: FutureWarning: In a future version, the Index constructor will not infer numeric dtypes when passed object-dtype sequences (matching Series behavior)\n",
      "  df_ = df_.pivot(index = 'time', columns='inv',values='value')\n"
     ]
    },
    {
     "data": {
      "text/plain": [
       "<AxesSubplot: xlabel='time'>"
      ]
     },
     "execution_count": 21,
     "metadata": {},
     "output_type": "execute_result"
    },
    {
     "data": {
      "image/png": "[encoded data removed]",
      "text/plain": [
       "<Figure size 640x480 with 1 Axes>"
      ]
     },
     "metadata": {},
     "output_type": "display_data"
    }
   ],
   "source": [
    "inventory = model.inv.extract_values()\n",
    "col = ['time','inv','value']\n",
    "df = pd.DataFrame(columns=col)\n",
    "for ivalues in inventory.keys():\n",
    "    df = pd.concat([df,\n",
    "                    pd.DataFrame.from_records([{\n",
    "                                col[0]:ivalues[1],\n",
    "                                col[1]:ivalues[0],\n",
    "                                col[2]:inventory[ivalues]\n",
    "                            }])],ignore_index=True)\n",
    "df_ = df[df['inv']=='RET1']\n",
    "df_ = df_.pivot(index = 'time', columns='inv',values='value')\n",
    "df_.plot()"
   ]
  },
  {
   "cell_type": "code",
   "execution_count": 22,
   "metadata": {},
   "outputs": [],
   "source": [
    "flow = model.x.extract_values()\n",
    "col_ = ['time','from','To','value']\n",
    "df_flow = pd.DataFrame(columns=col_)\n",
    "for ivalues in flow.keys():\n",
    "    df_flow = pd.concat([df_flow,\n",
    "                    pd.DataFrame.from_records([{\n",
    "                                col_[0]:ivalues[2],\n",
    "                                col_[1]:ivalues[0],\n",
    "                                col_[2]:ivalues[1],\n",
    "                                col_[3]:flow[ivalues]\n",
    "                            }])],ignore_index=True)\n",
    "#df = df.pivot(index = 'time', columns='from',values='value')\n",
    "#df.plot()"
   ]
  },
  {
   "cell_type": "code",
   "execution_count": 23,
   "metadata": {},
   "outputs": [
    {
     "data": {
      "text/html": [
       "<div>\n",
       "<style scoped>\n",
       "    .dataframe tbody tr th:only-of-type {\n",
       "        vertical-align: middle;\n",
       "    }\n",
       "\n",
       "    .dataframe tbody tr th {\n",
       "        vertical-align: top;\n",
       "    }\n",
       "\n",
       "    .dataframe thead th {\n",
       "        text-align: right;\n",
       "    }\n",
       "</style>\n",
       "<table border=\"1\" class=\"dataframe\">\n",
       "  <thead>\n",
       "    <tr style=\"text-align: right;\">\n",
       "      <th></th>\n",
       "      <th>time</th>\n",
       "      <th>from</th>\n",
       "      <th>To</th>\n",
       "      <th>value</th>\n",
       "    </tr>\n",
       "  </thead>\n",
       "  <tbody>\n",
       "    <tr>\n",
       "      <th>0</th>\n",
       "      <td>0</td>\n",
       "      <td>S1</td>\n",
       "      <td>DC1</td>\n",
       "      <td>NaN</td>\n",
       "    </tr>\n",
       "    <tr>\n",
       "      <th>1</th>\n",
       "      <td>1</td>\n",
       "      <td>S1</td>\n",
       "      <td>DC1</td>\n",
       "      <td>0.00</td>\n",
       "    </tr>\n",
       "    <tr>\n",
       "      <th>2</th>\n",
       "      <td>2</td>\n",
       "      <td>S1</td>\n",
       "      <td>DC1</td>\n",
       "      <td>0.00</td>\n",
       "    </tr>\n",
       "    <tr>\n",
       "      <th>3</th>\n",
       "      <td>3</td>\n",
       "      <td>S1</td>\n",
       "      <td>DC1</td>\n",
       "      <td>0.00</td>\n",
       "    </tr>\n",
       "    <tr>\n",
       "      <th>4</th>\n",
       "      <td>4</td>\n",
       "      <td>S1</td>\n",
       "      <td>DC1</td>\n",
       "      <td>0.00</td>\n",
       "    </tr>\n",
       "    <tr>\n",
       "      <th>...</th>\n",
       "      <td>...</td>\n",
       "      <td>...</td>\n",
       "      <td>...</td>\n",
       "      <td>...</td>\n",
       "    </tr>\n",
       "    <tr>\n",
       "      <th>584</th>\n",
       "      <td>26</td>\n",
       "      <td>RET2</td>\n",
       "      <td>CUS4</td>\n",
       "      <td>36.32</td>\n",
       "    </tr>\n",
       "    <tr>\n",
       "      <th>585</th>\n",
       "      <td>27</td>\n",
       "      <td>RET2</td>\n",
       "      <td>CUS4</td>\n",
       "      <td>36.32</td>\n",
       "    </tr>\n",
       "    <tr>\n",
       "      <th>586</th>\n",
       "      <td>28</td>\n",
       "      <td>RET2</td>\n",
       "      <td>CUS4</td>\n",
       "      <td>36.32</td>\n",
       "    </tr>\n",
       "    <tr>\n",
       "      <th>587</th>\n",
       "      <td>29</td>\n",
       "      <td>RET2</td>\n",
       "      <td>CUS4</td>\n",
       "      <td>36.32</td>\n",
       "    </tr>\n",
       "    <tr>\n",
       "      <th>588</th>\n",
       "      <td>30</td>\n",
       "      <td>RET2</td>\n",
       "      <td>CUS4</td>\n",
       "      <td>36.32</td>\n",
       "    </tr>\n",
       "  </tbody>\n",
       "</table>\n",
       "<p>589 rows × 4 columns</p>\n",
       "</div>"
      ],
      "text/plain": [
       "    time  from    To  value\n",
       "0      0    S1   DC1    NaN\n",
       "1      1    S1   DC1   0.00\n",
       "2      2    S1   DC1   0.00\n",
       "3      3    S1   DC1   0.00\n",
       "4      4    S1   DC1   0.00\n",
       "..   ...   ...   ...    ...\n",
       "584   26  RET2  CUS4  36.32\n",
       "585   27  RET2  CUS4  36.32\n",
       "586   28  RET2  CUS4  36.32\n",
       "587   29  RET2  CUS4  36.32\n",
       "588   30  RET2  CUS4  36.32\n",
       "\n",
       "[589 rows x 4 columns]"
      ]
     },
     "execution_count": 23,
     "metadata": {},
     "output_type": "execute_result"
    }
   ],
   "source": [
    "df_flow"
   ]
  },
  {
   "cell_type": "code",
   "execution_count": 24,
   "metadata": {},
   "outputs": [
    {
     "name": "stdout",
     "output_type": "stream",
     "text": [
      "inv_rt : Size=62, Index=inv_rt_index, Active=True\n",
      "    Key          : Lower : Body                                                                                                                    : Upper : Active\n",
      "     ('RET1', 0) : 500.0 :                                                                                                             inv[RET1,0] : 500.0 :   True\n",
      "     ('RET1', 1) :   0.0 :        inv[RET1,1] - (x[DC1,RET1,1] + x[DC2,RET1,1] + inv[RET1,0] - (x[RET1,CUS1,1] + x[RET1,CUS2,1] + x[RET1,CUS3,1])) :   0.0 :   True\n",
      "     ('RET1', 2) :   0.0 :        inv[RET1,2] - (x[DC1,RET1,2] + x[DC2,RET1,2] + inv[RET1,1] - (x[RET1,CUS1,2] + x[RET1,CUS2,2] + x[RET1,CUS3,2])) :   0.0 :   True\n",
      "     ('RET1', 3) :   0.0 :        inv[RET1,3] - (x[DC1,RET1,3] + x[DC2,RET1,3] + inv[RET1,2] - (x[RET1,CUS1,3] + x[RET1,CUS2,3] + x[RET1,CUS3,3])) :   0.0 :   True\n",
      "     ('RET1', 4) :   0.0 :        inv[RET1,4] - (x[DC1,RET1,4] + x[DC2,RET1,4] + inv[RET1,3] - (x[RET1,CUS1,4] + x[RET1,CUS2,4] + x[RET1,CUS3,4])) :   0.0 :   True\n",
      "     ('RET1', 5) :   0.0 :        inv[RET1,5] - (x[DC1,RET1,5] + x[DC2,RET1,5] + inv[RET1,4] - (x[RET1,CUS1,5] + x[RET1,CUS2,5] + x[RET1,CUS3,5])) :   0.0 :   True\n",
      "     ('RET1', 6) :   0.0 :        inv[RET1,6] - (x[DC1,RET1,6] + x[DC2,RET1,6] + inv[RET1,5] - (x[RET1,CUS1,6] + x[RET1,CUS2,6] + x[RET1,CUS3,6])) :   0.0 :   True\n",
      "     ('RET1', 7) :   0.0 :        inv[RET1,7] - (x[DC1,RET1,7] + x[DC2,RET1,7] + inv[RET1,6] - (x[RET1,CUS1,7] + x[RET1,CUS2,7] + x[RET1,CUS3,7])) :   0.0 :   True\n",
      "     ('RET1', 8) :   0.0 :        inv[RET1,8] - (x[DC1,RET1,8] + x[DC2,RET1,8] + inv[RET1,7] - (x[RET1,CUS1,8] + x[RET1,CUS2,8] + x[RET1,CUS3,8])) :   0.0 :   True\n",
      "     ('RET1', 9) :   0.0 :        inv[RET1,9] - (x[DC1,RET1,9] + x[DC2,RET1,9] + inv[RET1,8] - (x[RET1,CUS1,9] + x[RET1,CUS2,9] + x[RET1,CUS3,9])) :   0.0 :   True\n",
      "    ('RET1', 10) :   0.0 :  inv[RET1,10] - (x[DC1,RET1,10] + x[DC2,RET1,10] + inv[RET1,9] - (x[RET1,CUS1,10] + x[RET1,CUS2,10] + x[RET1,CUS3,10])) :   0.0 :   True\n",
      "    ('RET1', 11) :   0.0 : inv[RET1,11] - (x[DC1,RET1,11] + x[DC2,RET1,11] + inv[RET1,10] - (x[RET1,CUS1,11] + x[RET1,CUS2,11] + x[RET1,CUS3,11])) :   0.0 :   True\n",
      "    ('RET1', 12) :   0.0 : inv[RET1,12] - (x[DC1,RET1,12] + x[DC2,RET1,12] + inv[RET1,11] - (x[RET1,CUS1,12] + x[RET1,CUS2,12] + x[RET1,CUS3,12])) :   0.0 :   True\n",
      "    ('RET1', 13) :   0.0 : inv[RET1,13] - (x[DC1,RET1,13] + x[DC2,RET1,13] + inv[RET1,12] - (x[RET1,CUS1,13] + x[RET1,CUS2,13] + x[RET1,CUS3,13])) :   0.0 :   True\n",
      "    ('RET1', 14) :   0.0 : inv[RET1,14] - (x[DC1,RET1,14] + x[DC2,RET1,14] + inv[RET1,13] - (x[RET1,CUS1,14] + x[RET1,CUS2,14] + x[RET1,CUS3,14])) :   0.0 :   True\n",
      "    ('RET1', 15) :   0.0 : inv[RET1,15] - (x[DC1,RET1,15] + x[DC2,RET1,15] + inv[RET1,14] - (x[RET1,CUS1,15] + x[RET1,CUS2,15] + x[RET1,CUS3,15])) :   0.0 :   True\n",
      "    ('RET1', 16) :   0.0 : inv[RET1,16] - (x[DC1,RET1,16] + x[DC2,RET1,16] + inv[RET1,15] - (x[RET1,CUS1,16] + x[RET1,CUS2,16] + x[RET1,CUS3,16])) :   0.0 :   True\n",
      "    ('RET1', 17) :   0.0 : inv[RET1,17] - (x[DC1,RET1,17] + x[DC2,RET1,17] + inv[RET1,16] - (x[RET1,CUS1,17] + x[RET1,CUS2,17] + x[RET1,CUS3,17])) :   0.0 :   True\n",
      "    ('RET1', 18) :   0.0 : inv[RET1,18] - (x[DC1,RET1,18] + x[DC2,RET1,18] + inv[RET1,17] - (x[RET1,CUS1,18] + x[RET1,CUS2,18] + x[RET1,CUS3,18])) :   0.0 :   True\n",
      "    ('RET1', 19) :   0.0 : inv[RET1,19] - (x[DC1,RET1,19] + x[DC2,RET1,19] + inv[RET1,18] - (x[RET1,CUS1,19] + x[RET1,CUS2,19] + x[RET1,CUS3,19])) :   0.0 :   True\n",
      "    ('RET1', 20) :   0.0 : inv[RET1,20] - (x[DC1,RET1,20] + x[DC2,RET1,20] + inv[RET1,19] - (x[RET1,CUS1,20] + x[RET1,CUS2,20] + x[RET1,CUS3,20])) :   0.0 :   True\n",
      "    ('RET1', 21) :   0.0 : inv[RET1,21] - (x[DC1,RET1,21] + x[DC2,RET1,21] + inv[RET1,20] - (x[RET1,CUS1,21] + x[RET1,CUS2,21] + x[RET1,CUS3,21])) :   0.0 :   True\n",
      "    ('RET1', 22) :   0.0 : inv[RET1,22] - (x[DC1,RET1,22] + x[DC2,RET1,22] + inv[RET1,21] - (x[RET1,CUS1,22] + x[RET1,CUS2,22] + x[RET1,CUS3,22])) :   0.0 :   True\n",
      "    ('RET1', 23) :   0.0 : inv[RET1,23] - (x[DC1,RET1,23] + x[DC2,RET1,23] + inv[RET1,22] - (x[RET1,CUS1,23] + x[RET1,CUS2,23] + x[RET1,CUS3,23])) :   0.0 :   True\n",
      "    ('RET1', 24) :   0.0 : inv[RET1,24] - (x[DC1,RET1,24] + x[DC2,RET1,24] + inv[RET1,23] - (x[RET1,CUS1,24] + x[RET1,CUS2,24] + x[RET1,CUS3,24])) :   0.0 :   True\n",
      "    ('RET1', 25) :   0.0 : inv[RET1,25] - (x[DC1,RET1,25] + x[DC2,RET1,25] + inv[RET1,24] - (x[RET1,CUS1,25] + x[RET1,CUS2,25] + x[RET1,CUS3,25])) :   0.0 :   True\n",
      "    ('RET1', 26) :   0.0 : inv[RET1,26] - (x[DC1,RET1,26] + x[DC2,RET1,26] + inv[RET1,25] - (x[RET1,CUS1,26] + x[RET1,CUS2,26] + x[RET1,CUS3,26])) :   0.0 :   True\n",
      "    ('RET1', 27) :   0.0 : inv[RET1,27] - (x[DC1,RET1,27] + x[DC2,RET1,27] + inv[RET1,26] - (x[RET1,CUS1,27] + x[RET1,CUS2,27] + x[RET1,CUS3,27])) :   0.0 :   True\n",
      "    ('RET1', 28) :   0.0 : inv[RET1,28] - (x[DC1,RET1,28] + x[DC2,RET1,28] + inv[RET1,27] - (x[RET1,CUS1,28] + x[RET1,CUS2,28] + x[RET1,CUS3,28])) :   0.0 :   True\n",
      "    ('RET1', 29) :   0.0 : inv[RET1,29] - (x[DC1,RET1,29] + x[DC2,RET1,29] + inv[RET1,28] - (x[RET1,CUS1,29] + x[RET1,CUS2,29] + x[RET1,CUS3,29])) :   0.0 :   True\n",
      "    ('RET1', 30) :   0.0 : inv[RET1,30] - (x[DC1,RET1,30] + x[DC2,RET1,30] + inv[RET1,29] - (x[RET1,CUS1,30] + x[RET1,CUS2,30] + x[RET1,CUS3,30])) :   0.0 :   True\n",
      "     ('RET2', 0) : 500.0 :                                                                                                             inv[RET2,0] : 500.0 :   True\n",
      "     ('RET2', 1) :   0.0 :                        inv[RET2,1] - (inv[RET2,0] + x[DC2,RET2,1] - (x[RET2,CUS1,1] + x[RET2,CUS2,1] + x[RET2,CUS4,1])) :   0.0 :   True\n",
      "     ('RET2', 2) :   0.0 :                        inv[RET2,2] - (inv[RET2,1] + x[DC2,RET2,2] - (x[RET2,CUS1,2] + x[RET2,CUS2,2] + x[RET2,CUS4,2])) :   0.0 :   True\n",
      "     ('RET2', 3) :   0.0 :                        inv[RET2,3] - (inv[RET2,2] + x[DC2,RET2,3] - (x[RET2,CUS1,3] + x[RET2,CUS2,3] + x[RET2,CUS4,3])) :   0.0 :   True\n",
      "     ('RET2', 4) :   0.0 :                        inv[RET2,4] - (inv[RET2,3] + x[DC2,RET2,4] - (x[RET2,CUS1,4] + x[RET2,CUS2,4] + x[RET2,CUS4,4])) :   0.0 :   True\n",
      "     ('RET2', 5) :   0.0 :                        inv[RET2,5] - (inv[RET2,4] + x[DC2,RET2,5] - (x[RET2,CUS1,5] + x[RET2,CUS2,5] + x[RET2,CUS4,5])) :   0.0 :   True\n",
      "     ('RET2', 6) :   0.0 :                        inv[RET2,6] - (inv[RET2,5] + x[DC2,RET2,6] - (x[RET2,CUS1,6] + x[RET2,CUS2,6] + x[RET2,CUS4,6])) :   0.0 :   True\n",
      "     ('RET2', 7) :   0.0 :                        inv[RET2,7] - (inv[RET2,6] + x[DC2,RET2,7] - (x[RET2,CUS1,7] + x[RET2,CUS2,7] + x[RET2,CUS4,7])) :   0.0 :   True\n",
      "     ('RET2', 8) :   0.0 :                        inv[RET2,8] - (inv[RET2,7] + x[DC2,RET2,8] - (x[RET2,CUS1,8] + x[RET2,CUS2,8] + x[RET2,CUS4,8])) :   0.0 :   True\n",
      "     ('RET2', 9) :   0.0 :                        inv[RET2,9] - (inv[RET2,8] + x[DC2,RET2,9] - (x[RET2,CUS1,9] + x[RET2,CUS2,9] + x[RET2,CUS4,9])) :   0.0 :   True\n",
      "    ('RET2', 10) :   0.0 :                   inv[RET2,10] - (inv[RET2,9] + x[DC2,RET2,10] - (x[RET2,CUS1,10] + x[RET2,CUS2,10] + x[RET2,CUS4,10])) :   0.0 :   True\n",
      "    ('RET2', 11) :   0.0 :                  inv[RET2,11] - (inv[RET2,10] + x[DC2,RET2,11] - (x[RET2,CUS1,11] + x[RET2,CUS2,11] + x[RET2,CUS4,11])) :   0.0 :   True\n",
      "    ('RET2', 12) :   0.0 :                  inv[RET2,12] - (inv[RET2,11] + x[DC2,RET2,12] - (x[RET2,CUS1,12] + x[RET2,CUS2,12] + x[RET2,CUS4,12])) :   0.0 :   True\n",
      "    ('RET2', 13) :   0.0 :                  inv[RET2,13] - (inv[RET2,12] + x[DC2,RET2,13] - (x[RET2,CUS1,13] + x[RET2,CUS2,13] + x[RET2,CUS4,13])) :   0.0 :   True\n",
      "    ('RET2', 14) :   0.0 :                  inv[RET2,14] - (inv[RET2,13] + x[DC2,RET2,14] - (x[RET2,CUS1,14] + x[RET2,CUS2,14] + x[RET2,CUS4,14])) :   0.0 :   True\n",
      "    ('RET2', 15) :   0.0 :                  inv[RET2,15] - (inv[RET2,14] + x[DC2,RET2,15] - (x[RET2,CUS1,15] + x[RET2,CUS2,15] + x[RET2,CUS4,15])) :   0.0 :   True\n",
      "    ('RET2', 16) :   0.0 :                  inv[RET2,16] - (inv[RET2,15] + x[DC2,RET2,16] - (x[RET2,CUS1,16] + x[RET2,CUS2,16] + x[RET2,CUS4,16])) :   0.0 :   True\n",
      "    ('RET2', 17) :   0.0 :                  inv[RET2,17] - (inv[RET2,16] + x[DC2,RET2,17] - (x[RET2,CUS1,17] + x[RET2,CUS2,17] + x[RET2,CUS4,17])) :   0.0 :   True\n",
      "    ('RET2', 18) :   0.0 :                  inv[RET2,18] - (inv[RET2,17] + x[DC2,RET2,18] - (x[RET2,CUS1,18] + x[RET2,CUS2,18] + x[RET2,CUS4,18])) :   0.0 :   True\n",
      "    ('RET2', 19) :   0.0 :                  inv[RET2,19] - (inv[RET2,18] + x[DC2,RET2,19] - (x[RET2,CUS1,19] + x[RET2,CUS2,19] + x[RET2,CUS4,19])) :   0.0 :   True\n",
      "    ('RET2', 20) :   0.0 :                  inv[RET2,20] - (inv[RET2,19] + x[DC2,RET2,20] - (x[RET2,CUS1,20] + x[RET2,CUS2,20] + x[RET2,CUS4,20])) :   0.0 :   True\n",
      "    ('RET2', 21) :   0.0 :                  inv[RET2,21] - (inv[RET2,20] + x[DC2,RET2,21] - (x[RET2,CUS1,21] + x[RET2,CUS2,21] + x[RET2,CUS4,21])) :   0.0 :   True\n",
      "    ('RET2', 22) :   0.0 :                  inv[RET2,22] - (inv[RET2,21] + x[DC2,RET2,22] - (x[RET2,CUS1,22] + x[RET2,CUS2,22] + x[RET2,CUS4,22])) :   0.0 :   True\n",
      "    ('RET2', 23) :   0.0 :                  inv[RET2,23] - (inv[RET2,22] + x[DC2,RET2,23] - (x[RET2,CUS1,23] + x[RET2,CUS2,23] + x[RET2,CUS4,23])) :   0.0 :   True\n",
      "    ('RET2', 24) :   0.0 :                  inv[RET2,24] - (inv[RET2,23] + x[DC2,RET2,24] - (x[RET2,CUS1,24] + x[RET2,CUS2,24] + x[RET2,CUS4,24])) :   0.0 :   True\n",
      "    ('RET2', 25) :   0.0 :                  inv[RET2,25] - (inv[RET2,24] + x[DC2,RET2,25] - (x[RET2,CUS1,25] + x[RET2,CUS2,25] + x[RET2,CUS4,25])) :   0.0 :   True\n",
      "    ('RET2', 26) :   0.0 :                  inv[RET2,26] - (inv[RET2,25] + x[DC2,RET2,26] - (x[RET2,CUS1,26] + x[RET2,CUS2,26] + x[RET2,CUS4,26])) :   0.0 :   True\n",
      "    ('RET2', 27) :   0.0 :                  inv[RET2,27] - (inv[RET2,26] + x[DC2,RET2,27] - (x[RET2,CUS1,27] + x[RET2,CUS2,27] + x[RET2,CUS4,27])) :   0.0 :   True\n",
      "    ('RET2', 28) :   0.0 :                  inv[RET2,28] - (inv[RET2,27] + x[DC2,RET2,28] - (x[RET2,CUS1,28] + x[RET2,CUS2,28] + x[RET2,CUS4,28])) :   0.0 :   True\n",
      "    ('RET2', 29) :   0.0 :                  inv[RET2,29] - (inv[RET2,28] + x[DC2,RET2,29] - (x[RET2,CUS1,29] + x[RET2,CUS2,29] + x[RET2,CUS4,29])) :   0.0 :   True\n",
      "    ('RET2', 30) :   0.0 :                  inv[RET2,30] - (inv[RET2,29] + x[DC2,RET2,30] - (x[RET2,CUS1,30] + x[RET2,CUS2,30] + x[RET2,CUS4,30])) :   0.0 :   True\n"
     ]
    }
   ],
   "source": [
    "model.inv_rt.pprint()"
   ]
  },
  {
   "cell_type": "code",
   "execution_count": null,
   "metadata": {},
   "outputs": [],
   "source": []
  }
 ],
 "metadata": {
  "kernelspec": {
   "display_name": "iff_opt",
   "language": "python",
   "name": "python3"
  },
  "language_info": {
   "codemirror_mode": {
    "name": "ipython",
    "version": 3
   },
   "file_extension": ".py",
   "mimetype": "text/x-python",
   "name": "python",
   "nbconvert_exporter": "python",
   "pygments_lexer": "ipython3",
   "version": "3.9.13"
  },
  "orig_nbformat": 4,
  "vscode": {
   "interpreter": {
    "hash": "9c357788b8b4f94dd356f27d98cb6761bcd9e45f55e2f5749a203bd7161b03cd"
   }
  }
 },
 "nbformat": 4,
 "nbformat_minor": 2
}
