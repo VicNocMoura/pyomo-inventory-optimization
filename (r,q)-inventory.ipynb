{
 "cells": [
  {
   "cell_type": "code",
   "execution_count": 1,
   "metadata": {},
   "outputs": [],
   "source": [
    "import pyomo.environ as pe\n",
    "import pandas as pd\n",
    "import numpy as np"
   ]
  },
  {
   "attachments": {},
   "cell_type": "markdown",
   "metadata": {},
   "source": [
    "## Data"
   ]
  },
  {
   "cell_type": "code",
   "execution_count": 2,
   "metadata": {},
   "outputs": [],
   "source": [
    "# Transportation costs\n",
    "trans_costs = {\n",
    "    ('S1','DC1'): 0.003,\n",
    "    ('S1','DC2'): 0.003,\n",
    "    ('S2','DC1'): 0.003,\n",
    "    ('S2','DC2'): 0.003,\n",
    "    ('DC1','DC2'):0.003,\n",
    "    ('DC1','RET1'):0.002,\n",
    "    ('DC1','CUS1'):0.287,\n",
    "    ('DC1','CUS2'):0.288,\n",
    "    ('DC2','DC1'):0.065,\n",
    "    ('DC2','RET1'):0.043,\n",
    "    ('DC2','RET2'):0.052,\n",
    "    ('DC2','CUS1'):0.287,\n",
    "    ('DC2','CUS2'):0.302,\n",
    "    ('RET1','RET2'):0.101,\n",
    "    ('RET1','CUS1'):0.284,\n",
    "    ('RET1','CUS2'):0.299,\n",
    "    ('RET1','CUS3'):0.0001,\n",
    "    ('RET2','RET1'):0.025,\n",
    "    ('RET2','CUS1'):0.287,\n",
    "    ('RET2','CUS2'):0.287,\n",
    "    ('RET2','CUS4'):0.0001\n",
    "    }"
   ]
  },
  {
   "cell_type": "code",
   "execution_count": 3,
   "metadata": {},
   "outputs": [],
   "source": [
    "supply = ['S1','S2']"
   ]
  },
  {
   "cell_type": "code",
   "execution_count": 4,
   "metadata": {},
   "outputs": [],
   "source": [
    "# Warehouse\n",
    "wh = {\n",
    "    'DC1':{'HC':0.0165,'InitInv':2000,'MaxInv':3000,'L':7},\n",
    "    'DC2':{'HC':0.1,'InitInv':2000,'MaxInv':3000,'L':7}\n",
    "}"
   ]
  },
  {
   "cell_type": "code",
   "execution_count": 5,
   "metadata": {},
   "outputs": [],
   "source": [
    "# Retail\n",
    "rt = {\n",
    "    'RET1':{'HC':0.1,'InitInv':500,'MaxInv':800,'L':3},\n",
    "    'RET2':{'HC':0.1,'InitInv':500,'MaxInv':800,'L':3}\n",
    "}"
   ]
  },
  {
   "cell_type": "code",
   "execution_count": 6,
   "metadata": {},
   "outputs": [],
   "source": [
    "# Customers\n",
    "cus = {\n",
    "   'CUS1':{'dd':245.06,'sigma2':3.455,'ST':1},\n",
    "   'CUS2':{'dd':82.5,'sigma2':2.627,'ST':1},\n",
    "   'CUS3':{'dd':56.53,'sigma2':6.814,'ST':0},\n",
    "   'CUS4':{'dd':36.32,'sigma2':3.349,'ST':0}\n",
    "}"
   ]
  },
  {
   "cell_type": "code",
   "execution_count": 7,
   "metadata": {},
   "outputs": [],
   "source": [
    "# timeframe\n",
    "time = list(range(0,13))"
   ]
  },
  {
   "attachments": {},
   "cell_type": "markdown",
   "metadata": {},
   "source": [
    "## Model"
   ]
  },
  {
   "attachments": {},
   "cell_type": "markdown",
   "metadata": {},
   "source": [
    "### Base model (without police)"
   ]
  },
  {
   "cell_type": "code",
   "execution_count": 8,
   "metadata": {},
   "outputs": [],
   "source": [
    "model = pe.ConcreteModel()"
   ]
  },
  {
   "cell_type": "code",
   "execution_count": 9,
   "metadata": {},
   "outputs": [],
   "source": [
    "# Sets\n",
    "model.time = pe.Set(initialize = time)\n",
    "model.wh = pe.Set(initialize = wh.keys())\n",
    "model.rt = pe.Set(initialize = rt.keys())\n",
    "model.cus = pe.Set(initialize = cus.keys())\n",
    "model.supply = pe.Set(initialize = supply)\n",
    "# Tuples\n",
    "model.trans = pe.Set(initialize = trans_costs.keys())"
   ]
  },
  {
   "cell_type": "code",
   "execution_count": 10,
   "metadata": {},
   "outputs": [],
   "source": [
    "# Decision variables\n",
    "model.x = pe.Var(model.trans,model.time,domain = pe.NonNegativeReals)\n",
    "model.inv = pe.Var(model.wh.union(model.rt),model.time,domain = pe.NonNegativeReals)"
   ]
  },
  {
   "cell_type": "code",
   "execution_count": 11,
   "metadata": {},
   "outputs": [],
   "source": [
    "# Constraints\n",
    "def demand_constraint(model,c,time):\n",
    "    if time>0:\n",
    "        return sum(model.x[i,c,time] for i in model.rt.union(model.wh) if (i,c) in model.trans) == cus[c]['dd']\n",
    "    else:\n",
    "        return sum(model.x[i,c,time] for i in model.rt.union(model.wh) if (i,c) in model.trans) == 0.\n",
    "model.demand_constraint = pe.Constraint(model.cus,model.time,rule = demand_constraint)"
   ]
  },
  {
   "cell_type": "code",
   "execution_count": 12,
   "metadata": {},
   "outputs": [],
   "source": [
    "def inv_wh(model,j,time):\n",
    "    if time > 0:\n",
    "        return model.inv[j,time] == model.inv[j,time-1] + sum(model.x[ss,j,time] for ss in model.supply if (ss,j) in model.trans)\\\n",
    "             - sum(model.x[j,rt,time] for rt in model.rt if (j,rt) in model.trans) - sum(model.x[j,c,time] for c in model.cus if (j,c) in model.trans)\n",
    "    else:\n",
    "        return pe.Constraint.Skip\n",
    "model.inv_wh = pe.Constraint(model.wh,model.time,rule = inv_wh)"
   ]
  },
  {
   "cell_type": "code",
   "execution_count": 13,
   "metadata": {},
   "outputs": [],
   "source": [
    "def inv_wh_ini_end(model,j,time):\n",
    "    if time == 0 or time == 12:\n",
    "        return model.inv[j,time] == wh[j]['InitInv']\n",
    "    else:\n",
    "        return pe.Constraint.Skip\n",
    "model.inv_wh_ini_end = pe.Constraint(model.wh,model.time,rule = inv_wh_ini_end)"
   ]
  },
  {
   "cell_type": "code",
   "execution_count": 14,
   "metadata": {},
   "outputs": [],
   "source": [
    "def inv_rt(model,k,time):\n",
    "    if time > 0:\n",
    "        return model.inv[k,time] == model.inv[k,time-1] + sum(model.x[wh,k,time] for wh in model.wh if (wh,k) in model.trans)\\\n",
    "            - sum(model.x[k,c,time] for c in model.cus if (k,c) in model.trans)\n",
    "    else:\n",
    "        return model.inv[k,time] == rt[k]['InitInv']\n",
    "model.inv_rt = pe.Constraint(model.rt,model.time,rule = inv_rt)"
   ]
  },
  {
   "cell_type": "code",
   "execution_count": 15,
   "metadata": {},
   "outputs": [],
   "source": [
    "def inv_rt_ini_end(model,k,time):\n",
    "    if time == 0 or time == 12:\n",
    "        return model.inv[k,time] == rt[k]['InitInv']\n",
    "    else:\n",
    "        return pe.Constraint.Skip\n",
    "model.inv_rt_ini_end = pe.Constraint(model.rt,model.time,rule = inv_rt_ini_end)"
   ]
  },
  {
   "cell_type": "code",
   "execution_count": 16,
   "metadata": {},
   "outputs": [],
   "source": [
    "def max_inv_wh(model,i,time):\n",
    "    return model.inv[i,time] <= wh[i]['MaxInv']\n",
    "model.max_inv_wh = pe.Constraint(model.wh,model.time,rule = max_inv_wh)\n"
   ]
  },
  {
   "cell_type": "code",
   "execution_count": 17,
   "metadata": {},
   "outputs": [],
   "source": [
    "def max_inv_rt(model,i,time):\n",
    "    return model.inv[i,time] <= rt[i]['MaxInv']\n",
    "model.max_inv_rt = pe.Constraint(model.rt,model.time,rule = max_inv_rt)"
   ]
  },
  {
   "cell_type": "code",
   "execution_count": 18,
   "metadata": {},
   "outputs": [],
   "source": [
    "def objective(model):\n",
    "   # revenue_rt = sum(10 * model.x[k,c,time] for k in model.rt for c in model.cus for time in model.time if (k,c) in model.trans if time > 0)\n",
    "   # revenue_wh = sum(10 * model.x[j,c,time] for j in model.wh for c in model.cus for time in model.time if (j,c) in model.trans if time > 0)\n",
    "    tc_ss_wh = sum(trans_costs[i,j] * model.x[i,j,time] for i in model.supply for j in model.wh for time in model.time if (i,j) in model.trans)\n",
    "    tc_wh_rt = sum(trans_costs[j,k] * model.x[j,k,time] for j in model.wh for k in model.rt for time in model.time if (j,k) in model.trans )\n",
    "    tc_rt_cus = sum(trans_costs[k,c] * model.x[k,c,time] for k in model.rt for c in model.cus for time in model.time if (k,c) in model.trans )\n",
    "    tc_wh_cus = sum(trans_costs[j,c] * model.x[j,c,time] for j in model.wh for c in model.cus for time in model.time if (j,c) in model.trans )\n",
    "    hc_wh = sum(wh[j]['HC'] * model.inv[j,time] for j in model.wh for time in model.time ) \n",
    "    hc_rt = sum(rt[k]['HC'] * model.inv[k,time] for k in model.rt for time in model.time )\n",
    "    return  (tc_ss_wh + tc_wh_rt + tc_rt_cus + tc_wh_cus + hc_wh + hc_rt) #revenue_rt + revenue_wh\n",
    "model.objective = pe.Objective(rule = objective, sense = pe.minimize)"
   ]
  },
  {
   "cell_type": "code",
   "execution_count": 19,
   "metadata": {},
   "outputs": [],
   "source": [
    "optimizer = pe.SolverFactory('cbc')"
   ]
  },
  {
   "cell_type": "code",
   "execution_count": 20,
   "metadata": {},
   "outputs": [
    {
     "name": "stdout",
     "output_type": "stream",
     "text": [
      "Welcome to the CBC MILP Solver \n",
      "Version: 2.10.5 \n",
      "Build Date: Dec  8 2020 \n",
      "\n",
      "command line - /home/victormoura/anaconda3/envs/iff_opt/bin/cbc -threads 4 -printingOptions all -import /tmp/tmpzx5cz4fq.pyomo.lp -stat=1 -solve -solu /tmp/tmpzx5cz4fq.pyomo.soln (default strategy 1)\n",
      "threads was changed from 0 to 4\n",
      "Option for printingOptions changed from normal to all\n",
      "Presolve 72 (-91) rows, 200 (-74) columns and 376 (-153) elements\n",
      "Statistics for presolved model\n",
      "\n",
      "\n",
      "Problem has 72 rows, 200 columns (200 with objective) and 376 elements\n",
      "There are 24 singletons with objective \n",
      "Column breakdown:\n",
      "156 of type 0.0->inf, 44 of type 0.0->up, 0 of type lo->inf, \n",
      "0 of type lo->up, 0 of type free, 0 of type fixed, \n",
      "0 of type -inf->0.0, 0 of type -inf->up, 0 of type 0.0->1.0 \n",
      "Row breakdown:\n",
      "20 of type E 0.0, 0 of type E 1.0, 0 of type E -1.0, \n",
      "52 of type E other, 0 of type G 0.0, 0 of type G 1.0, \n",
      "0 of type G other, 0 of type L 0.0, 0 of type L 1.0, \n",
      "0 of type L other, 0 of type Range 0.0->1.0, 0 of type Range other, \n",
      "0 of type Free \n",
      "Presolve 72 (-91) rows, 200 (-74) columns and 376 (-153) elements\n",
      "Perturbing problem by 0.001% of 0.302 - largest nonzero change 5.1441566e-05 ( 2.4965885%) - largest zero change 0\n",
      "0  Obj 740.11095 Primal inf 14673.52 (54)\n",
      "42  Obj 2079.2628 Primal inf 6736.91 (33)\n",
      "86  Obj 3067.1683 Primal inf 255.16999 (8)\n",
      "98  Obj 3074.0489\n",
      "Optimal - objective value 3072.6661\n",
      "After Postsolve, objective 3072.6661, infeasibilities - dual 0 (0), primal 0 (0)\n",
      "Optimal objective 3072.66609 - 98 iterations time 0.002, Presolve 0.00\n",
      "Total time (CPU seconds):       0.02   (Wallclock seconds):       0.01\n",
      "\n"
     ]
    }
   ],
   "source": [
    "results = optimizer.solve(model,options = {\"threads\":4},tee = True)"
   ]
  },
  {
   "cell_type": "code",
   "execution_count": 34,
   "metadata": {},
   "outputs": [
    {
     "name": "stderr",
     "output_type": "stream",
     "text": [
      "/tmp/ipykernel_3286/3949031875.py:11: FutureWarning: In a future version, the Index constructor will not infer numeric dtypes when passed object-dtype sequences (matching Series behavior)\n",
      "  df = df.pivot(index = 'time', columns='inv',values='value')\n"
     ]
    },
    {
     "data": {
      "text/plain": [
       "<AxesSubplot: xlabel='time'>"
      ]
     },
     "execution_count": 34,
     "metadata": {},
     "output_type": "execute_result"
    },
    {
     "data": {
      "image/png": "[encoded data removed]",
      "text/plain": [
       "<Figure size 640x480 with 1 Axes>"
      ]
     },
     "metadata": {},
     "output_type": "display_data"
    }
   ],
   "source": [
    "inventory = model.inv.extract_values()\n",
    "col = ['time','inv','value']\n",
    "df = pd.DataFrame(columns=col)\n",
    "for ivalues in inventory.keys():\n",
    "    df = pd.concat([df,\n",
    "                    pd.DataFrame.from_records([{\n",
    "                                col[0]:ivalues[1],\n",
    "                                col[1]:ivalues[0],\n",
    "                                col[2]:inventory[ivalues]\n",
    "                            }])],ignore_index=True)\n",
    "df = df.pivot(index = 'time', columns='inv',values='value')\n",
    "df.plot()"
   ]
  },
  {
   "cell_type": "code",
   "execution_count": 37,
   "metadata": {},
   "outputs": [],
   "source": [
    "flow = model.x.extract_values()\n",
    "col_ = ['time','from','To','value']\n",
    "df_flow = pd.DataFrame(columns=col_)\n",
    "for ivalues in flow.keys():\n",
    "    df_flow = pd.concat([df_flow,\n",
    "                    pd.DataFrame.from_records([{\n",
    "                                col_[0]:ivalues[2],\n",
    "                                col_[1]:ivalues[0],\n",
    "                                col_[2]:ivalues[1],\n",
    "                                col_[3]:flow[ivalues]\n",
    "                            }])],ignore_index=True)\n",
    "#df = df.pivot(index = 'time', columns='from',values='value')\n",
    "#df.plot()"
   ]
  },
  {
   "cell_type": "code",
   "execution_count": 38,
   "metadata": {},
   "outputs": [
    {
     "data": {
      "text/html": [
       "<div>\n",
       "<style scoped>\n",
       "    .dataframe tbody tr th:only-of-type {\n",
       "        vertical-align: middle;\n",
       "    }\n",
       "\n",
       "    .dataframe tbody tr th {\n",
       "        vertical-align: top;\n",
       "    }\n",
       "\n",
       "    .dataframe thead th {\n",
       "        text-align: right;\n",
       "    }\n",
       "</style>\n",
       "<table border=\"1\" class=\"dataframe\">\n",
       "  <thead>\n",
       "    <tr style=\"text-align: right;\">\n",
       "      <th></th>\n",
       "      <th>time</th>\n",
       "      <th>from</th>\n",
       "      <th>To</th>\n",
       "      <th>value</th>\n",
       "    </tr>\n",
       "  </thead>\n",
       "  <tbody>\n",
       "    <tr>\n",
       "      <th>0</th>\n",
       "      <td>0</td>\n",
       "      <td>S1</td>\n",
       "      <td>DC1</td>\n",
       "      <td>0.00</td>\n",
       "    </tr>\n",
       "    <tr>\n",
       "      <th>1</th>\n",
       "      <td>1</td>\n",
       "      <td>S1</td>\n",
       "      <td>DC1</td>\n",
       "      <td>0.00</td>\n",
       "    </tr>\n",
       "    <tr>\n",
       "      <th>2</th>\n",
       "      <td>2</td>\n",
       "      <td>S1</td>\n",
       "      <td>DC1</td>\n",
       "      <td>0.00</td>\n",
       "    </tr>\n",
       "    <tr>\n",
       "      <th>3</th>\n",
       "      <td>3</td>\n",
       "      <td>S1</td>\n",
       "      <td>DC1</td>\n",
       "      <td>0.00</td>\n",
       "    </tr>\n",
       "    <tr>\n",
       "      <th>4</th>\n",
       "      <td>4</td>\n",
       "      <td>S1</td>\n",
       "      <td>DC1</td>\n",
       "      <td>0.00</td>\n",
       "    </tr>\n",
       "    <tr>\n",
       "      <th>...</th>\n",
       "      <td>...</td>\n",
       "      <td>...</td>\n",
       "      <td>...</td>\n",
       "      <td>...</td>\n",
       "    </tr>\n",
       "    <tr>\n",
       "      <th>268</th>\n",
       "      <td>8</td>\n",
       "      <td>RET2</td>\n",
       "      <td>CUS4</td>\n",
       "      <td>36.32</td>\n",
       "    </tr>\n",
       "    <tr>\n",
       "      <th>269</th>\n",
       "      <td>9</td>\n",
       "      <td>RET2</td>\n",
       "      <td>CUS4</td>\n",
       "      <td>36.32</td>\n",
       "    </tr>\n",
       "    <tr>\n",
       "      <th>270</th>\n",
       "      <td>10</td>\n",
       "      <td>RET2</td>\n",
       "      <td>CUS4</td>\n",
       "      <td>36.32</td>\n",
       "    </tr>\n",
       "    <tr>\n",
       "      <th>271</th>\n",
       "      <td>11</td>\n",
       "      <td>RET2</td>\n",
       "      <td>CUS4</td>\n",
       "      <td>36.32</td>\n",
       "    </tr>\n",
       "    <tr>\n",
       "      <th>272</th>\n",
       "      <td>12</td>\n",
       "      <td>RET2</td>\n",
       "      <td>CUS4</td>\n",
       "      <td>36.32</td>\n",
       "    </tr>\n",
       "  </tbody>\n",
       "</table>\n",
       "<p>273 rows × 4 columns</p>\n",
       "</div>"
      ],
      "text/plain": [
       "    time  from    To  value\n",
       "0      0    S1   DC1   0.00\n",
       "1      1    S1   DC1   0.00\n",
       "2      2    S1   DC1   0.00\n",
       "3      3    S1   DC1   0.00\n",
       "4      4    S1   DC1   0.00\n",
       "..   ...   ...   ...    ...\n",
       "268    8  RET2  CUS4  36.32\n",
       "269    9  RET2  CUS4  36.32\n",
       "270   10  RET2  CUS4  36.32\n",
       "271   11  RET2  CUS4  36.32\n",
       "272   12  RET2  CUS4  36.32\n",
       "\n",
       "[273 rows x 4 columns]"
      ]
     },
     "execution_count": 38,
     "metadata": {},
     "output_type": "execute_result"
    }
   ],
   "source": [
    "df_flow"
   ]
  },
  {
   "cell_type": "code",
   "execution_count": null,
   "metadata": {},
   "outputs": [],
   "source": []
  }
 ],
 "metadata": {
  "kernelspec": {
   "display_name": "iff_opt",
   "language": "python",
   "name": "python3"
  },
  "language_info": {
   "codemirror_mode": {
    "name": "ipython",
    "version": 3
   },
   "file_extension": ".py",
   "mimetype": "text/x-python",
   "name": "python",
   "nbconvert_exporter": "python",
   "pygments_lexer": "ipython3",
   "version": "3.9.13"
  },
  "orig_nbformat": 4,
  "vscode": {
   "interpreter": {
    "hash": "9c357788b8b4f94dd356f27d98cb6761bcd9e45f55e2f5749a203bd7161b03cd"
   }
  }
 },
 "nbformat": 4,
 "nbformat_minor": 2
}
