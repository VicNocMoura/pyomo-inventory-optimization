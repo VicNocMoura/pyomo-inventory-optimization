{
 "cells": [
  {
   "cell_type": "code",
   "execution_count": null,
   "metadata": {},
   "outputs": [],
   "source": []
  }
 ],
 "metadata": {
  "kernelspec": {
   "display_name": "base",
   "language": "python",
   "name": "python3"
  },
  "language_info": {
   "name": "python",
   "version": "3.9.12 (main, Apr  5 2022, 06:56:58) \n[GCC 7.5.0]"
  },
  "orig_nbformat": 4,
  "vscode": {
   "interpreter": {
    "hash": "4a8596e3e7b2e1df6cb8d3b660f17d8fe9a14be411048cb70e6aa6cddc49bae2"
   }
  }
 },
 "nbformat": 4,
 "nbformat_minor": 2
}
