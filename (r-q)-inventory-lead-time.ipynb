{
 "cells": [
  {
   "cell_type": "code",
   "execution_count": 55,
   "metadata": {},
   "outputs": [],
   "source": [
    "import pyomo.environ as pe\n",
    "import pandas as pd\n",
    "import numpy as np"
   ]
  },
  {
   "attachments": {},
   "cell_type": "markdown",
   "metadata": {},
   "source": [
    "### Data"
   ]
  },
  {
   "cell_type": "code",
   "execution_count": 56,
   "metadata": {},
   "outputs": [],
   "source": [
    "demand = {1  : 17,    2  : 84,    3  : 55,    4  : 30,    5  : 29,    6  : 22,    7  : 34,    8  : 85,    9  :  6,    10 : 50,\n",
    "11 : 99,    12 : 57,    13 : 99,    14 : 76,    15 : 13,    16 : 63,    17 : 15,    18 : 25,    19 : 66,    20 : 43,\n",
    "21 : 35,    22 : 35,    23 : 13,    24 : 15,    25 : 58,    26 : 83,    27 : 23,    28 : 66,    29 : 77,    30 : 30,\n",
    "31 : 11,    32 : 50,    33 : 16,    34 : 87,    35 : 26,    36 : 28,    37 : 59,    38 : 72,    39 : 62,    40 : 46,\n",
    "41 : 41,    42 : 11,    43 : 31,    44 :  4,    45 : 33,    46 : 18,    47 : 64,    48 : 56,    49 : 76,    50 : 29,\n",
    "51 : 66,    52 : 75,    53 : 62,    54 : 28,    55 :  8,    56 : 10,    57 : 64,    58 : 54,    59 :  3,    60 : 79,\n",
    "61 :  7,    62 : 17,    63 : 52,    64 : 75,    65 : 17,    66 :  3,    67 : 58,    68 : 62,    69 : 38,    70 : 35,\n",
    "71 : 24,    72 : 24,    73 : 13,    74 : 93,    75 : 37,    76 : 78,    77 : 30,    78 : 12,    79 : 74,    80 :  6,\n",
    "81 : 20,  82:0,  83 : 26,    84 : 49,    85 : 15,    86 : 17,    87 : 33,    88 : 31,    89 : 32,    90 : 96,    91 : 99,\n",
    "92 : 36,    93 : 37,    94 : 77,    95 : 39,    96 : 91,    97 : 11,    98 : 73,    99 :  5,    100: 57}"
   ]
  },
  {
   "attachments": {},
   "cell_type": "markdown",
   "metadata": {},
   "source": [
    "### Parameters"
   ]
  },
  {
   "cell_type": "code",
   "execution_count": 57,
   "metadata": {},
   "outputs": [],
   "source": [
    "invCap = 1000        # inventory capacity\n",
    "maxQ = 1000          # max order quantity\n",
    "orderCost = 500      # cost for each order\n",
    "holdCost = 2         # holding cost (per unit, per time period)\n",
    "leadtime = 10        # lead time\n",
    "backLogCost = 10     # backlogged orders penalty (per unit, per time period)\n",
    "maxBackLogged = 1000 # big-M\n",
    "initialInv = 500     # initial inventory"
   ]
  },
  {
   "attachments": {},
   "cell_type": "markdown",
   "metadata": {},
   "source": [
    "### Model"
   ]
  },
  {
   "cell_type": "code",
   "execution_count": 58,
   "metadata": {},
   "outputs": [],
   "source": [
    "m = pe.ConcreteModel()"
   ]
  },
  {
   "cell_type": "code",
   "execution_count": 59,
   "metadata": {},
   "outputs": [],
   "source": [
    "# sets\n",
    "m.time = pe.Set(initialize = pe.RangeSet(1,100))"
   ]
  },
  {
   "cell_type": "code",
   "execution_count": 60,
   "metadata": {},
   "outputs": [],
   "source": [
    "# devision variables\n",
    "m.Q  = pe.Var(bounds=[0,maxQ],domain = pe.NonNegativeReals)\n",
    "m.R = pe.Var(bounds=[0,invCap],domain = pe.NonNegativeReals)\n",
    "m.inv = pe.Var(m.time,bounds=[0,invCap],domain = pe.NonNegativeReals)\n",
    "m.back = pe.Var(m.time,bounds = [0,maxBackLogged],domain = pe.NonNegativeReals)\n",
    "m.low = pe.Var(m.time,domain = pe.Binary)\n",
    "m.order = pe.Var(m.time,domain = pe.Binary)\n",
    "m.repl = pe.Var(m.time,domain = pe.NonNegativeReals)\n",
    "m.delta = pe.Var(m.time,domain = pe.Binary)"
   ]
  },
  {
   "cell_type": "code",
   "execution_count": 61,
   "metadata": {},
   "outputs": [],
   "source": [
    "# objective\n",
    "\n",
    "def objective(model):\n",
    "    return orderCost * sum(m.order[t] for t in m.time) + holdCost * sum(m.inv[t] for t in m.time) + backLogCost * sum(m.back[t] for t in m.time)\n",
    "m.objective = pe.Objective(rule = objective, sense = pe.minimize)"
   ]
  },
  {
   "cell_type": "code",
   "execution_count": 62,
   "metadata": {},
   "outputs": [],
   "source": [
    "# constraints\n",
    "\n",
    "# inventory balance\n",
    "def inv_balance(model,t):\n",
    "    if t == 1:\n",
    "        return m.inv[t] - m.back[t] == m.repl[t] + initialInv - demand[t]\n",
    "    else:\n",
    "        return m.inv[t] - m.back[t] == m.inv[t-1] - m.back[t-1] - demand[t] + m.repl[t]\n",
    "m.inv_balance = pe.Constraint(m.time,rule = inv_balance)\n",
    "\n",
    "# inventory cap delta\n",
    "def inv_cap_delta(model,t):\n",
    "    return m.inv[t] <= invCap * m.delta[t]\n",
    "m.inv_cap_delta = pe.Constraint(m.time,rule = inv_cap_delta)\n",
    "\n",
    "# backlogged\n",
    "def back_cap(model,t):\n",
    "    return m.back[t] <= maxBackLogged * (1-m.delta[t])\n",
    "m.back_cap = pe.Constraint(m.time,rule=back_cap)\n",
    "\n",
    "# inventory low first constraint\n",
    "def inv_low_1(model,t):\n",
    "    return m.inv[t] <= m.R + invCap * (1 - m.low[t])\n",
    "m.inv_low_1 = pe.Constraint(m.time,rule=inv_low_1)\n",
    "\n",
    "# inventory low second constraint\n",
    "def inv_low_2(model,t):\n",
    "    return m.inv[t] >= m.R + 1 - (invCap + 1) * m.low[t]\n",
    "m.inv_low_2 = pe.Constraint(m.time,rule = inv_low_2)\n",
    "\n",
    "# inventory reorder first constraint\n",
    "def reorder_1(model,t):\n",
    "    if t > 1:\n",
    "        return m.order[t] <= 1 - m.low[t-1]\n",
    "    else:\n",
    "        return m.order[t] <= 1\n",
    "m.reorder_1 = pe.Constraint(m.time,rule = reorder_1)\n",
    "\n",
    "# inventory reorder second constraint\n",
    "def reorder_2(model,t):\n",
    "    return m.order[t] <= m.low[t]\n",
    "m.reorder_2 = pe.Constraint(m.time,rule = reorder_2)\n",
    "\n",
    "# inventory reorder third constraint\n",
    "def reorder_3(model,t):\n",
    "    if t > 1:\n",
    "        return m.order[t] >= m.low[t] - m.low[t-1]\n",
    "    else:\n",
    "        return m.order[t] >= m.low[t]\n",
    "    \n",
    "# inventory replenish first constraint   \n",
    "def inv_replen(model,t):\n",
    "    if t > leadtime:\n",
    "        return m.repl[t] <= maxQ * m.order[t-leadtime]\n",
    "    else:\n",
    "        return m.repl[t] <= 0\n",
    "m.inv_replen = pe.Constraint(m.time,rule = inv_replen)\n",
    "\n",
    "# inventory replenish second constraint \n",
    "def inv_replen_2(model,t):\n",
    "    return m.repl[t] <= m.Q\n",
    "m.inv_replen_2 = pe.Constraint(m.time,rule=inv_replen_2)\n",
    "\n",
    "# inventory replenish third constraint \n",
    "def inv_replen_3(model,t):\n",
    "    if t > leadtime:\n",
    "        return m.repl[t] >= m.Q - maxQ * (1 - m.order[t-leadtime])\n",
    "    else:\n",
    "        return m.repl[t] >= m.Q - maxQ\n",
    "m.inv_replen_3 = pe.Constraint(m.time,rule = inv_replen_3)"
   ]
  },
  {
   "cell_type": "code",
   "execution_count": 63,
   "metadata": {},
   "outputs": [],
   "source": [
    "optimizer = pe.SolverFactory('cbc')"
   ]
  },
  {
   "cell_type": "code",
   "execution_count": 64,
   "metadata": {},
   "outputs": [
    {
     "name": "stdout",
     "output_type": "stream",
     "text": [
      "Welcome to the CBC MILP Solver \n",
      "Version: 2.10.5 \n",
      "Build Date: Dec  8 2020 \n",
      "\n",
      "command line - /home/victormoura/anaconda3/envs/iff_opt/bin/cbc -threads 4 -printingOptions all -import /tmp/tmp04dq3dzz.pyomo.lp -stat=1 -solve -solu /tmp/tmp04dq3dzz.pyomo.soln (default strategy 1)\n",
      "threads was changed from 0 to 4\n",
      "Option for printingOptions changed from normal to all\n",
      "Presolve 959 (-42) rows, 582 (-21) columns and 2476 (-102) elements\n",
      "Statistics for presolved model\n",
      "Original problem has 300 integers (300 of which binary)\n",
      "Presolved problem has 300 integers (300 of which binary)\n",
      "==== 292 zero objective 5 different\n",
      "292 variables have objective of 0\n",
      "90 variables have objective of 2\n",
      "90 variables have objective of 10\n",
      "10 variables have objective of 12\n",
      "100 variables have objective of 500\n",
      "==== absolute objective values 5 different\n",
      "292 variables have objective of 0\n",
      "90 variables have objective of 2\n",
      "90 variables have objective of 10\n",
      "10 variables have objective of 12\n",
      "100 variables have objective of 500\n",
      "==== for integers 200 zero objective 2 different\n",
      "200 variables have objective of 0\n",
      "100 variables have objective of 500\n",
      "==== for integers absolute objective values 2 different\n",
      "200 variables have objective of 0\n",
      "100 variables have objective of 500\n",
      "===== end objective counts\n",
      "\n",
      "\n",
      "Problem has 959 rows, 582 columns (290 with objective) and 2476 elements\n",
      "Column breakdown:\n",
      "90 of type 0.0->inf, 185 of type 0.0->up, 0 of type lo->inf, \n",
      "7 of type lo->up, 0 of type free, 0 of type fixed, \n",
      "0 of type -inf->0.0, 0 of type -inf->up, 300 of type 0.0->1.0 \n",
      "Row breakdown:\n",
      "1 of type E 0.0, 0 of type E 1.0, 0 of type E -1.0, \n",
      "89 of type E other, 0 of type G 0.0, 0 of type G 1.0, \n",
      "0 of type G other, 377 of type L 0.0, 99 of type L 1.0, \n",
      "393 of type L other, 0 of type Range 0.0->1.0, 0 of type Range other, \n",
      "0 of type Free \n",
      "Continuous objective value is 7259.5 - 0.00 seconds\n",
      "Cgl0003I 0 fixed, 0 tightened bounds, 129 strengthened rows, 0 substitutions\n",
      "Cgl0003I 0 fixed, 0 tightened bounds, 32 strengthened rows, 0 substitutions\n",
      "Cgl0003I 0 fixed, 0 tightened bounds, 24 strengthened rows, 0 substitutions\n",
      "Cgl0003I 0 fixed, 0 tightened bounds, 18 strengthened rows, 0 substitutions\n",
      "Cgl0003I 0 fixed, 0 tightened bounds, 10 strengthened rows, 0 substitutions\n",
      "Cgl0003I 0 fixed, 0 tightened bounds, 7 strengthened rows, 0 substitutions\n",
      "Cgl0003I 0 fixed, 0 tightened bounds, 5 strengthened rows, 0 substitutions\n",
      "Cgl0003I 0 fixed, 0 tightened bounds, 1 strengthened rows, 0 substitutions\n",
      "Cgl0003I 0 fixed, 0 tightened bounds, 1 strengthened rows, 0 substitutions\n",
      "Cgl0004I processed model has 918 rows, 552 columns (280 integer (280 of which binary)) and 2595 elements\n",
      "Cbc0038I Initial state - 189 integers unsatisfied sum - 13.5243\n",
      "Cbc0038I Pass   1: suminf.    4.22949 (170) obj. 505066 iterations 391\n",
      "Cbc0038I Pass   2: suminf.    1.78099 (127) obj. 472750 iterations 72\n",
      "Cbc0038I Pass   3: suminf.    9.84684 (105) obj. 302103 iterations 122\n",
      "Cbc0038I Pass   4: suminf.    2.41100 (122) obj. 410561 iterations 180\n",
      "Cbc0038I Pass   5: suminf.    0.30249 (102) obj. 430747 iterations 33\n",
      "Cbc0038I Pass   6: suminf.    1.49240 (86) obj. 220353 iterations 83\n",
      "Cbc0038I Pass   7: suminf.    0.39479 (72) obj. 225945 iterations 43\n",
      "Cbc0038I Pass   8: suminf.    0.79663 (67) obj. 280881 iterations 24\n",
      "Cbc0038I Pass   9: suminf.    0.08845 (65) obj. 268869 iterations 23\n",
      "Cbc0038I Pass  10: suminf.    0.32678 (64) obj. 268869 iterations 3\n",
      "Cbc0038I Pass  11: suminf.    0.06399 (64) obj. 268869 iterations 2\n",
      "Cbc0038I Pass  12: suminf.    2.75325 (76) obj. 147738 iterations 151\n",
      "Cbc0038I Pass  13: suminf.    1.92750 (64) obj. 145436 iterations 59\n",
      "Cbc0038I Pass  14: suminf.    0.65041 (57) obj. 193916 iterations 43\n",
      "Cbc0038I Pass  15: suminf.    0.64941 (56) obj. 194015 iterations 1\n",
      "Cbc0038I Pass  16: suminf.    0.55777 (55) obj. 216257 iterations 29\n",
      "Cbc0038I Pass  17: suminf.    0.10366 (55) obj. 216257 iterations 2\n",
      "Cbc0038I Pass  18: suminf.    0.97338 (56) obj. 249688 iterations 23\n",
      "Cbc0038I Pass  19: suminf.    0.97138 (54) obj. 250457 iterations 2\n",
      "Cbc0038I Pass  20: suminf.    0.05100 (51) obj. 252474 iterations 15\n",
      "Cbc0038I Pass  21: suminf.    0.70058 (51) obj. 235957 iterations 8\n",
      "Cbc0038I Pass  22: suminf.    3.69287 (82) obj. 117800 iterations 155\n",
      "Cbc0038I Pass  23: suminf.    2.94887 (78) obj. 131583 iterations 41\n",
      "Cbc0038I Pass  24: suminf.    0.35789 (59) obj. 145515 iterations 77\n",
      "Cbc0038I Pass  25: suminf.    1.07698 (55) obj. 146540 iterations 39\n",
      "Cbc0038I Pass  26: suminf.    0.85032 (55) obj. 146101 iterations 4\n",
      "Cbc0038I Pass  27: suminf.    0.69141 (57) obj. 147082 iterations 41\n",
      "Cbc0038I Pass  28: suminf.    0.69898 (61) obj. 147296 iterations 48\n",
      "Cbc0038I Pass  29: suminf.    0.69798 (60) obj. 147295 iterations 1\n",
      "Cbc0038I Pass  30: suminf.    0.43498 (55) obj. 235012 iterations 44\n",
      "Cbc0038I No solution found this major pass\n",
      "Cbc0038I Before mini branch and bound, 23 integers at bound fixed and 27 continuous\n",
      "Cbc0038I Full problem 918 rows 552 columns, reduced to 701 rows 425 columns - too large\n",
      "Cbc0038I Mini branch and bound did not improve solution (0.33 seconds)\n",
      "Cbc0038I Full problem 919 rows 552 columns, reduced to 919 rows 552 columns - too large\n",
      "Cbc0038I After 0.38 seconds - Feasibility pump exiting - took 0.11 seconds\n",
      "Cbc0031I 212 added rows had average density of 4.8962264\n",
      "Cbc0013I At root node, 212 cuts changed objective from 7259.5 to 17324.201 in 10 passes\n",
      "Cbc0014I Cut generator 0 (Probing) - 637 row cuts average 2.3 elements, 0 column cuts (0 active)  in 0.047 seconds - new frequency is 1\n",
      "Cbc0014I Cut generator 1 (Gomory) - 110 row cuts average 8.1 elements, 0 column cuts (0 active)  in 0.000 seconds - new frequency is 1\n",
      "Cbc0014I Cut generator 2 (Knapsack) - 80 row cuts average 2.0 elements, 0 column cuts (0 active)  in 0.000 seconds - new frequency is 1\n",
      "Cbc0014I Cut generator 3 (Clique) - 0 row cuts average 0.0 elements, 0 column cuts (0 active)  in 0.000 seconds - new frequency is -100\n",
      "Cbc0014I Cut generator 4 (MixedIntegerRounding2) - 333 row cuts average 4.2 elements, 0 column cuts (0 active)  in 0.000 seconds - new frequency is 1\n",
      "Cbc0014I Cut generator 5 (FlowCover) - 0 row cuts average 0.0 elements, 0 column cuts (0 active)  in 0.016 seconds - new frequency is -100\n",
      "Cbc0014I Cut generator 6 (TwoMirCuts) - 192 row cuts average 7.8 elements, 0 column cuts (0 active)  in 0.016 seconds - new frequency is 1\n",
      "Cbc0010I After 0 nodes, 1 on tree, 1e+50 best solution, best possible 17324.201 (0.83 seconds)\n",
      "Cbc0012I Integer solution of 70808.667 found by rounding after 29897 iterations and 416 nodes (10.17 seconds)\n",
      "Cbc0012I Integer solution of 70808.667 found by heuristic after 30029 iterations and 420 nodes (10.17 seconds)\n",
      "Cbc0010I After 1000 nodes, 197 on tree, 70808.667 best solution, best possible 18830.408 (24.08 seconds)\n",
      "Cbc0010I After 2000 nodes, 388 on tree, 70808.667 best solution, best possible 18830.408 (42.55 seconds)\n",
      "Cbc0010I After 3000 nodes, 535 on tree, 70808.667 best solution, best possible 18830.408 (60.16 seconds)\n",
      "Cbc0012I Integer solution of 50126 found by heuristic after 268093 iterations and 3382 nodes (65.70 seconds)\n",
      "Cbc0010I After 4000 nodes, 663 on tree, 50126 best solution, best possible 18830.408 (80.72 seconds)\n",
      "Cbc0010I After 5000 nodes, 996 on tree, 50126 best solution, best possible 18830.408 (102.11 seconds)\n",
      "Cbc0010I After 6000 nodes, 1292 on tree, 50126 best solution, best possible 18830.408 (121.89 seconds)\n",
      "Cbc0010I After 7000 nodes, 1534 on tree, 50126 best solution, best possible 18830.408 (140.08 seconds)\n",
      "Cbc0010I After 8000 nodes, 1742 on tree, 50126 best solution, best possible 18830.408 (158.70 seconds)\n",
      "Cbc0010I After 9000 nodes, 1938 on tree, 50126 best solution, best possible 18830.408 (177.45 seconds)\n",
      "Cbc0010I After 10000 nodes, 2122 on tree, 50126 best solution, best possible 18830.408 (198.67 seconds)\n",
      "Cbc0010I After 11000 nodes, 2284 on tree, 50126 best solution, best possible 18830.408 (222.81 seconds)\n",
      "Cbc0010I After 12000 nodes, 2651 on tree, 50126 best solution, best possible 33047.101 (264.44 seconds)\n",
      "Cbc0010I After 13000 nodes, 2943 on tree, 50126 best solution, best possible 35000.789 (295.94 seconds)\n",
      "Cbc0010I After 14000 nodes, 3150 on tree, 50126 best solution, best possible 35079.793 (317.20 seconds)\n",
      "Cbc0010I After 15000 nodes, 3370 on tree, 50126 best solution, best possible 37072.992 (340.92 seconds)\n",
      "Cbc0010I After 16000 nodes, 3593 on tree, 50126 best solution, best possible 37952.318 (363.30 seconds)\n",
      "Cbc0010I After 17000 nodes, 3795 on tree, 50126 best solution, best possible 38531.011 (386.41 seconds)\n",
      "Cbc0010I After 18000 nodes, 3888 on tree, 50126 best solution, best possible 38532.826 (407.64 seconds)\n",
      "Cbc0010I After 19000 nodes, 4096 on tree, 50126 best solution, best possible 39138.03 (431.84 seconds)\n",
      "Cbc0010I After 20000 nodes, 4269 on tree, 50126 best solution, best possible 39672.918 (456.83 seconds)\n",
      "Cbc0010I After 21000 nodes, 4402 on tree, 50126 best solution, best possible 40101.576 (478.16 seconds)\n",
      "Cbc0010I After 22000 nodes, 4499 on tree, 50126 best solution, best possible 40103.655 (493.34 seconds)\n",
      "Cbc0010I After 23000 nodes, 4635 on tree, 50126 best solution, best possible 40543.267 (513.83 seconds)\n",
      "Cbc0010I After 24000 nodes, 4792 on tree, 50126 best solution, best possible 40935.536 (533.70 seconds)\n",
      "Cbc0010I After 25000 nodes, 4918 on tree, 50126 best solution, best possible 41305.277 (553.16 seconds)\n",
      "Cbc0012I Integer solution of 48990 found by heuristic after 2357004 iterations and 25488 nodes (560.94 seconds)\n",
      "Cbc0010I After 26000 nodes, 4704 on tree, 48990 best solution, best possible 41305.277 (569.33 seconds)\n",
      "Cbc0010I After 27000 nodes, 4826 on tree, 48990 best solution, best possible 41687.031 (591.95 seconds)\n",
      "Cbc0010I After 28000 nodes, 4958 on tree, 48990 best solution, best possible 42010.584 (611.98 seconds)\n",
      "Cbc0010I After 29000 nodes, 5063 on tree, 48990 best solution, best possible 42312.472 (631.45 seconds)\n",
      "Cbc0010I After 30000 nodes, 5098 on tree, 48990 best solution, best possible 42313.755 (645.48 seconds)\n",
      "Cbc0010I After 31000 nodes, 5210 on tree, 48990 best solution, best possible 42631.497 (665.98 seconds)\n",
      "Cbc0010I After 32000 nodes, 5310 on tree, 48990 best solution, best possible 42929.154 (688.81 seconds)\n",
      "Cbc0010I After 33000 nodes, 5390 on tree, 48990 best solution, best possible 43200.353 (710.34 seconds)\n",
      "Cbc0010I After 34000 nodes, 5374 on tree, 48990 best solution, best possible 43201.197 (725.77 seconds)\n",
      "Cbc0010I After 35000 nodes, 5458 on tree, 48990 best solution, best possible 43508.065 (747.03 seconds)\n",
      "Cbc0010I After 36000 nodes, 5516 on tree, 48990 best solution, best possible 43789.936 (767.23 seconds)\n",
      "Cbc0010I After 37000 nodes, 5553 on tree, 48990 best solution, best possible 44058.916 (785.75 seconds)\n",
      "Cbc0010I After 38000 nodes, 5523 on tree, 48990 best solution, best possible 44059.902 (801.84 seconds)\n",
      "Cbc0010I After 39000 nodes, 5529 on tree, 48990 best solution, best possible 44340.157 (826.19 seconds)\n",
      "Cbc0010I After 40000 nodes, 5537 on tree, 48990 best solution, best possible 44581.603 (848.30 seconds)\n",
      "Cbc0010I After 41000 nodes, 5541 on tree, 48990 best solution, best possible 44831.852 (869.91 seconds)\n",
      "Cbc0010I After 42000 nodes, 5422 on tree, 48990 best solution, best possible 44832.454 (886.47 seconds)\n",
      "Cbc0010I After 43000 nodes, 5370 on tree, 48990 best solution, best possible 45073.262 (913.78 seconds)\n",
      "Cbc0010I After 44000 nodes, 5299 on tree, 48990 best solution, best possible 45293.231 (938.75 seconds)\n",
      "Cbc0010I After 45000 nodes, 5248 on tree, 48990 best solution, best possible 45519.28 (962.45 seconds)\n",
      "Cbc0012I Integer solution of 48874.8 found by heuristic after 4077045 iterations and 45181 nodes (965.08 seconds)\n",
      "Cbc0010I After 46000 nodes, 4905 on tree, 48874.8 best solution, best possible 45519.28 (978.11 seconds)\n",
      "Cbc0010I After 47000 nodes, 4778 on tree, 48874.8 best solution, best possible 45773.193 (1006.02 seconds)\n",
      "Cbc0010I After 48000 nodes, 4622 on tree, 48874.8 best solution, best possible 46010.332 (1033.75 seconds)\n",
      "Cbc0010I After 49000 nodes, 4441 on tree, 48874.8 best solution, best possible 46246.678 (1058.80 seconds)\n",
      "Cbc0010I After 50000 nodes, 4102 on tree, 48874.8 best solution, best possible 46246.678 (1075.42 seconds)\n",
      "Cbc0010I After 51000 nodes, 3891 on tree, 48874.8 best solution, best possible 46487.224 (1103.44 seconds)\n",
      "Cbc0010I After 52000 nodes, 3635 on tree, 48874.8 best solution, best possible 46756.23 (1128.36 seconds)\n",
      "Cbc0010I After 53000 nodes, 3353 on tree, 48874.8 best solution, best possible 46991.266 (1151.20 seconds)\n",
      "Cbc0010I After 54000 nodes, 2919 on tree, 48874.8 best solution, best possible 46991.266 (1164.34 seconds)\n",
      "Cbc0010I After 55000 nodes, 2582 on tree, 48874.8 best solution, best possible 47277.433 (1188.69 seconds)\n",
      "Cbc0010I After 56000 nodes, 2204 on tree, 48874.8 best solution, best possible 47572.211 (1209.42 seconds)\n",
      "Cbc0010I After 57000 nodes, 1794 on tree, 48874.8 best solution, best possible 47819.927 (1225.33 seconds)\n",
      "Cbc0010I After 58000 nodes, 1307 on tree, 48874.8 best solution, best possible 47821.52 (1233.30 seconds)\n",
      "Cbc0010I After 59000 nodes, 842 on tree, 48874.8 best solution, best possible 48173.16 (1247.86 seconds)\n",
      "Cbc0010I After 60000 nodes, 349 on tree, 48874.8 best solution, best possible 48552.602 (1260.00 seconds)\n",
      "Cbc0030I Thread 0 used 15444 times,  waiting to start 2.008445,  96521 locks, 3.1576302 locked, 0.33251548 waiting for locks\n",
      "Cbc0030I Thread 1 used 15261 times,  waiting to start 2.2498386,  94957 locks, 3.0901988 locked, 0.37033296 waiting for locks\n",
      "Cbc0030I Thread 2 used 14874 times,  waiting to start 2.7022693,  92605 locks, 3.0932293 locked, 0.3546474 waiting for locks\n",
      "Cbc0030I Thread 3 used 15122 times,  waiting to start 2.4329181,  93975 locks, 3.0964711 locked, 0.37270236 waiting for locks\n",
      "Cbc0030I Main thread 339.22366 waiting for threads,  121533 locks, 0.22062254 locked, 0.30406022 waiting for locks\n",
      "Cbc0001I Search completed - best objective 48874.79999999997, took 5221267 iterations and 60701 nodes (1264.58 seconds)\n",
      "Cbc0032I Strong branching done 82150 times (2504638 iterations), fathomed 2422 nodes and fixed 12740 variables\n",
      "Cbc0035I Maximum depth 62, 10705 variables fixed on reduced cost\n",
      "Cuts at root node changed objective from 7259.5 to 17324.2\n",
      "Probing was tried 77672 times and created 2453869 cuts of which 0 were active after adding rounds of cuts (104.641 seconds)\n",
      "Gomory was tried 71655 times and created 185105 cuts of which 0 were active after adding rounds of cuts (94.203 seconds)\n",
      "Knapsack was tried 71655 times and created 25648 cuts of which 0 were active after adding rounds of cuts (73.750 seconds)\n",
      "Clique was tried 50 times and created 0 cuts of which 0 were active after adding rounds of cuts (0.000 seconds)\n",
      "MixedIntegerRounding2 was tried 71655 times and created 142628 cuts of which 0 were active after adding rounds of cuts (57.562 seconds)\n",
      "FlowCover was tried 50 times and created 0 cuts of which 0 were active after adding rounds of cuts (0.016 seconds)\n",
      "TwoMirCuts was tried 71655 times and created 1367 cuts of which 0 were active after adding rounds of cuts (24.359 seconds)\n",
      "ZeroHalf was tried 5 times and created 0 cuts of which 0 were active after adding rounds of cuts (0.000 seconds)\n",
      "ImplicationCuts was tried 1329 times and created 557 cuts of which 0 were active after adding rounds of cuts (0.109 seconds)\n",
      "\n",
      "Result - Optimal solution found\n",
      "\n",
      "Objective value:                48874.80000000\n",
      "Enumerated nodes:               60701\n",
      "Total iterations:               5221267\n",
      "Time (CPU seconds):             1264.61\n",
      "Time (Wallclock seconds):       343.83\n",
      "\n",
      "Total time (CPU seconds):       1264.66   (Wallclock seconds):       343.86\n",
      "\n"
     ]
    }
   ],
   "source": [
    "results = optimizer.solve(m,options = {\"threads\":4},tee = True)"
   ]
  },
  {
   "cell_type": "code",
   "execution_count": 65,
   "metadata": {},
   "outputs": [],
   "source": [
    "inv = m.inv.extract_values()"
   ]
  },
  {
   "cell_type": "code",
   "execution_count": 66,
   "metadata": {},
   "outputs": [],
   "source": [
    "col = ['time','inventory']\n",
    "df = pd.DataFrame(columns=col)\n",
    "for ivalues in inv.keys():\n",
    "    df = pd.concat([df,\n",
    "                    pd.DataFrame.from_records([{\n",
    "                                col[0]:ivalues,\n",
    "                                col[1]:inv[ivalues]\n",
    "                            }])],ignore_index=True)"
   ]
  },
  {
   "cell_type": "code",
   "execution_count": 67,
   "metadata": {},
   "outputs": [],
   "source": [
    "supply = m.repl.extract_values()"
   ]
  },
  {
   "cell_type": "code",
   "execution_count": 68,
   "metadata": {},
   "outputs": [],
   "source": [
    "col = ['time','supply']\n",
    "df_ = pd.DataFrame(columns=col)\n",
    "for ivalues in supply.keys():\n",
    "    df_ = pd.concat([df_,\n",
    "                    pd.DataFrame.from_records([{\n",
    "                                col[0]:ivalues,\n",
    "                                col[1]:supply[ivalues]\n",
    "                            }])],ignore_index=True)"
   ]
  },
  {
   "cell_type": "code",
   "execution_count": 69,
   "metadata": {},
   "outputs": [],
   "source": [
    "col = ['time','demand']\n",
    "df_demand = pd.DataFrame(columns=col)\n",
    "for ivalues in demand.keys():\n",
    "    df_demand = pd.concat([df_demand,\n",
    "                    pd.DataFrame.from_records([{\n",
    "                                col[0]:ivalues,\n",
    "                                col[1]:demand[ivalues]\n",
    "                            }])],ignore_index=True)"
   ]
  },
  {
   "cell_type": "code",
   "execution_count": 70,
   "metadata": {},
   "outputs": [],
   "source": [
    "import matplotlib.pyplot as plt"
   ]
  },
  {
   "cell_type": "code",
   "execution_count": 73,
   "metadata": {},
   "outputs": [
    {
     "data": {
      "image/png": "[encoded data removed]",
      "text/plain": [
       "<Figure size 640x480 with 2 Axes>"
      ]
     },
     "metadata": {},
     "output_type": "display_data"
    }
   ],
   "source": [
    "f, (a0,a1) = plt.subplots(2,1,gridspec_kw={'height_ratios': [1, 1/4]})\n",
    "\n",
    "a0.plot(df['time'],df['inventory'])\n",
    "a0.axhline(y = m.R(),color = 'r')\n",
    "a0.plot(df_demand['time'],df_demand['demand'], color = 'g')\n",
    "a0.legend(['inventory','Replenish','Demand'])\n",
    "a1.bar(df_['time'],df_['supply'],color ='#808080',width = 1)\n",
    "plt.show()"
   ]
  },
  {
   "cell_type": "code",
   "execution_count": null,
   "metadata": {},
   "outputs": [],
   "source": []
  }
 ],
 "metadata": {
  "kernelspec": {
   "display_name": "iff_opt",
   "language": "python",
   "name": "python3"
  },
  "language_info": {
   "codemirror_mode": {
    "name": "ipython",
    "version": 3
   },
   "file_extension": ".py",
   "mimetype": "text/x-python",
   "name": "python",
   "nbconvert_exporter": "python",
   "pygments_lexer": "ipython3",
   "version": "3.9.13"
  },
  "orig_nbformat": 4,
  "vscode": {
   "interpreter": {
    "hash": "9c357788b8b4f94dd356f27d98cb6761bcd9e45f55e2f5749a203bd7161b03cd"
   }
  }
 },
 "nbformat": 4,
 "nbformat_minor": 2
}
