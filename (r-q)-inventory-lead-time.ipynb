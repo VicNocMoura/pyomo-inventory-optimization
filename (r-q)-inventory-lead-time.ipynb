{
 "cells": [
  {
   "cell_type": "code",
   "execution_count": 1,
   "metadata": {},
   "outputs": [],
   "source": [
    "import pyomo.environ as pe\n",
    "import pandas as pd\n",
    "import numpy as np"
   ]
  },
  {
   "attachments": {},
   "cell_type": "markdown",
   "metadata": {},
   "source": [
    "### Data"
   ]
  },
  {
   "cell_type": "code",
   "execution_count": 2,
   "metadata": {},
   "outputs": [],
   "source": [
    "demand = {1  : 17,    2  : 84,    3  : 55,    4  : 30,    5  : 29,    6  : 22,    7  : 34,    8  : 85,    9  :  6,    10 : 50,\n",
    "11 : 99,    12 : 57,    13 : 99,    14 : 76,    15 : 13,    16 : 63,    17 : 15,    18 : 25,    19 : 66,    20 : 43,\n",
    "21 : 35,    22 : 35,    23 : 13,    24 : 15,    25 : 58,    26 : 83,    27 : 23,    28 : 66,    29 : 77,    30 : 30,\n",
    "31 : 11,    32 : 50,    33 : 16,    34 : 87,    35 : 26,    36 : 28,    37 : 59,    38 : 72,    39 : 62,    40 : 46,\n",
    "41 : 41,    42 : 11,    43 : 31,    44 :  4,    45 : 33,    46 : 18,    47 : 64,    48 : 56,    49 : 76,    50 : 29,\n",
    "51 : 66,    52 : 75,    53 : 62,    54 : 28,    55 :  8,    56 : 10,    57 : 64,    58 : 54,    59 :  3,    60 : 79,\n",
    "61 :  7,    62 : 17,    63 : 52,    64 : 75,    65 : 17,    66 :  3,    67 : 58,    68 : 62,    69 : 38,    70 : 35,\n",
    "71 : 24,    72 : 24,    73 : 13,    74 : 93,    75 : 37,    76 : 78,    77 : 30,    78 : 12,    79 : 74,    80 :  6,\n",
    "81 : 20,  82:0,  83 : 26,    84 : 49,    85 : 15,    86 : 17,    87 : 33,    88 : 31,    89 : 32,    90 : 96,    91 : 99,\n",
    "92 : 36,    93 : 37,    94 : 77,    95 : 39,    96 : 91,    97 : 11,    98 : 73,    99 :  5,    100: 57        }"
   ]
  },
  {
   "attachments": {},
   "cell_type": "markdown",
   "metadata": {},
   "source": [
    "### Parameters"
   ]
  },
  {
   "cell_type": "code",
   "execution_count": 3,
   "metadata": {},
   "outputs": [],
   "source": [
    "invCap = 1000        # inventory capacity\n",
    "maxQ = 1000          # max order quantity\n",
    "orderCost = 500      # cost for each order\n",
    "holdCost = 2         # holding cost (per unit, per time period)\n",
    "leadtime = 10        # lead time\n",
    "backLogCost = 10     # backlogged orders penalty (per unit, per time period)\n",
    "maxBackLogged = 1000 # big-M\n",
    "initialInv = 500     # initial inventory"
   ]
  },
  {
   "attachments": {},
   "cell_type": "markdown",
   "metadata": {},
   "source": [
    "### Model"
   ]
  },
  {
   "cell_type": "code",
   "execution_count": 4,
   "metadata": {},
   "outputs": [],
   "source": [
    "m = pe.ConcreteModel()"
   ]
  },
  {
   "cell_type": "code",
   "execution_count": 5,
   "metadata": {},
   "outputs": [],
   "source": [
    "# sets\n",
    "m.time = pe.Set(initialize = pe.RangeSet(1,100))"
   ]
  },
  {
   "cell_type": "code",
   "execution_count": 6,
   "metadata": {},
   "outputs": [],
   "source": [
    "# devision variables\n",
    "m.Q  = pe.Var(bounds=[0,maxQ],domain = pe.NonNegativeIntegers)\n",
    "m.R = pe.Var(bounds=[0,invCap],domain = pe.NonNegativeIntegers)\n",
    "m.inv = pe.Var(m.time,bounds=[0,invCap],domain = pe.NonNegativeIntegers)\n",
    "m.back = pe.Var(m.time,bounds = [0,maxBackLogged],domain = pe.NonNegativeIntegers)\n",
    "m.low = pe.Var(m.time,domain = pe.Binary)\n",
    "m.order = pe.Var(m.time,domain = pe.Binary)\n",
    "m.repl = pe.Var(m.time,domain = pe.NonNegativeIntegers)\n",
    "m.delta = pe.Var(m.time,domain = pe.Binary)"
   ]
  },
  {
   "cell_type": "code",
   "execution_count": 7,
   "metadata": {},
   "outputs": [],
   "source": [
    "# objective\n",
    "\n",
    "def objective(model):\n",
    "    return orderCost * sum(m.order[t] for t in m.time) + holdCost * sum(m.inv[t] for t in m.time) + backLogCost * sum(m.back[t] for t in m.time)\n",
    "m.objective = pe.Objective(rule = objective, sense = pe.minimize)"
   ]
  },
  {
   "cell_type": "code",
   "execution_count": 8,
   "metadata": {},
   "outputs": [],
   "source": [
    "# constraints\n",
    "\n",
    "# inventory balance\n",
    "def inv_balance(model,t):\n",
    "    if t == 1:\n",
    "        return m.inv[t] - m.back[t] == m.repl[t] + initialInv - demand[t]\n",
    "    else:\n",
    "        return m.inv[t] - m.back[t] == m.inv[t-1] - m.back[t-1] - demand[t] + m.repl[t]\n",
    "m.inv_balance = pe.Constraint(m.time,rule = inv_balance)\n",
    "\n",
    "# inventory cap delta\n",
    "def inv_cap_delta(model,t):\n",
    "    return m.inv[t] <= invCap * m.delta[t]\n",
    "m.inv_cap_delta = pe.Constraint(m.time,rule = inv_cap_delta)\n",
    "\n",
    "# backlogged\n",
    "def back_cap(model,t):\n",
    "    return m.back[t] <= maxBackLogged * (1-m.delta[t])\n",
    "m.back_cap = pe.Constraint(m.time,rule=back_cap)\n",
    "\n",
    "# inventory low first constraint\n",
    "def inv_low_1(model,t):\n",
    "    return m.inv[t] <= m.R + invCap * (1 - m.low[t])\n",
    "m.inv_low_1 = pe.Constraint(m.time,rule=inv_low_1)\n",
    "\n",
    "# inventory low second constraint\n",
    "def inv_low_2(model,t):\n",
    "    return m.inv[t] >= m.R + 1 - (invCap + 1) * m.low[t]\n",
    "m.inv_low_2 = pe.Constraint(m.time,rule = inv_low_2)\n",
    "\n",
    "# inventory reorder first constraint\n",
    "def reorder_1(model,t):\n",
    "    if t > 1:\n",
    "        return m.order[t] <= 1 - m.low[t-1]\n",
    "    else:\n",
    "        return m.order[t] <= 1\n",
    "m.reorder_1 = pe.Constraint(m.time,rule = reorder_1)\n",
    "\n",
    "# inventory reorder second constraint\n",
    "def reorder_2(model,t):\n",
    "    return m.order[t] <= m.low[t]\n",
    "m.reorder_2 = pe.Constraint(m.time,rule = reorder_2)\n",
    "\n",
    "# inventory reorder third constraint\n",
    "def reorder_3(model,t):\n",
    "    if t > 1:\n",
    "        return m.order[t] >= m.low[t] - m.low[t-1]\n",
    "    else:\n",
    "        return m.order[t] >= m.low[t]\n",
    "    \n",
    "# inventory replenish first constraint   \n",
    "def inv_replen(model,t):\n",
    "    if t > leadtime:\n",
    "        return m.repl[t] <= maxQ * m.order[t-leadtime]\n",
    "    else:\n",
    "        return m.repl[t] <= 0\n",
    "m.inv_replen = pe.Constraint(m.time,rule = inv_replen)\n",
    "\n",
    "# inventory replenish second constraint \n",
    "def inv_replen_2(model,t):\n",
    "    return m.repl[t] <= m.Q\n",
    "m.inv_replen_2 = pe.Constraint(m.time,rule=inv_replen_2)\n",
    "\n",
    "# inventory replenish third constraint \n",
    "def inv_replen_3(model,t):\n",
    "    if t > leadtime:\n",
    "        return m.repl[t] >= m.Q - maxQ * (1 - m.order[t-leadtime])\n",
    "    else:\n",
    "        return m.repl[t] >= m.Q - maxQ\n",
    "m.inv_replen_3 = pe.Constraint(m.time,rule = inv_replen_3)"
   ]
  },
  {
   "cell_type": "code",
   "execution_count": 13,
   "metadata": {},
   "outputs": [],
   "source": [
    "optimizer = pe.SolverFactory('cbc')"
   ]
  },
  {
   "cell_type": "code",
   "execution_count": 14,
   "metadata": {},
   "outputs": [
    {
     "name": "stdout",
     "output_type": "stream",
     "text": [
      "Welcome to the CBC MILP Solver \n",
      "Version: 2.10.5 \n",
      "Build Date: Dec  8 2020 \n",
      "\n",
      "command line - /home/victormoura/anaconda3/envs/iff_opt/bin/cbc -threads 4 -printingOptions all -import /tmp/tmpw71x7qx8.pyomo.lp -stat=1 -solve -solu /tmp/tmpw71x7qx8.pyomo.soln (default strategy 1)\n",
      "threads was changed from 0 to 4\n",
      "Option for printingOptions changed from normal to all\n",
      "Presolve is modifying 9 integer bounds and re-presolving\n",
      "Presolve 959 (-42) rows, 582 (-21) columns and 2476 (-102) elements\n",
      "Statistics for presolved model\n",
      "Original problem has 602 integers (300 of which binary)\n",
      "Presolved problem has 582 integers (300 of which binary)\n",
      "==== 292 zero objective 5 different\n",
      "292 variables have objective of 0\n",
      "90 variables have objective of 2\n",
      "90 variables have objective of 10\n",
      "10 variables have objective of 12\n",
      "100 variables have objective of 500\n",
      "==== absolute objective values 5 different\n",
      "292 variables have objective of 0\n",
      "90 variables have objective of 2\n",
      "90 variables have objective of 10\n",
      "10 variables have objective of 12\n",
      "100 variables have objective of 500\n",
      "==== for integers 292 zero objective 5 different\n",
      "292 variables have objective of 0\n",
      "90 variables have objective of 2\n",
      "90 variables have objective of 10\n",
      "10 variables have objective of 12\n",
      "100 variables have objective of 500\n",
      "==== for integers absolute objective values 5 different\n",
      "292 variables have objective of 0\n",
      "90 variables have objective of 2\n",
      "90 variables have objective of 10\n",
      "10 variables have objective of 12\n",
      "100 variables have objective of 500\n",
      "===== end objective counts\n",
      "\n",
      "\n",
      "Problem has 959 rows, 582 columns (290 with objective) and 2476 elements\n",
      "Column breakdown:\n",
      "90 of type 0.0->inf, 189 of type 0.0->up, 0 of type lo->inf, \n",
      "3 of type lo->up, 0 of type free, 0 of type fixed, \n",
      "0 of type -inf->0.0, 0 of type -inf->up, 300 of type 0.0->1.0 \n",
      "Row breakdown:\n",
      "1 of type E 0.0, 0 of type E 1.0, 0 of type E -1.0, \n",
      "89 of type E other, 0 of type G 0.0, 0 of type G 1.0, \n",
      "0 of type G other, 373 of type L 0.0, 99 of type L 1.0, \n",
      "397 of type L other, 0 of type Range 0.0->1.0, 0 of type Range other, \n",
      "0 of type Free \n",
      "Continuous objective value is 7259.5 - 0.03 seconds\n",
      "Cgl0003I 0 fixed, 2 tightened bounds, 131 strengthened rows, 0 substitutions\n",
      "Cgl0003I 0 fixed, 1 tightened bounds, 41 strengthened rows, 0 substitutions\n",
      "Cgl0003I 0 fixed, 1 tightened bounds, 50 strengthened rows, 0 substitutions\n",
      "Cgl0003I 0 fixed, 1 tightened bounds, 39 strengthened rows, 0 substitutions\n",
      "Cgl0003I 0 fixed, 1 tightened bounds, 32 strengthened rows, 0 substitutions\n",
      "Cgl0003I 0 fixed, 1 tightened bounds, 32 strengthened rows, 0 substitutions\n",
      "Cgl0003I 0 fixed, 1 tightened bounds, 28 strengthened rows, 0 substitutions\n",
      "Cgl0003I 0 fixed, 1 tightened bounds, 29 strengthened rows, 0 substitutions\n",
      "Cgl0003I 0 fixed, 1 tightened bounds, 19 strengthened rows, 0 substitutions\n",
      "Cgl0004I processed model has 919 rows, 552 columns (552 integer (280 of which binary)) and 2771 elements\n",
      "Cutoff increment increased from 1e-05 to 1.9999\n",
      "Cbc0038I Initial state - 194 integers unsatisfied sum - 39.4389\n",
      "Cbc0038I Pass   1: suminf.    7.76761 (21) obj. 534583 iterations 416\n",
      "Cbc0038I Pass   2: suminf.   14.71204 (78) obj. 379885 iterations 23\n",
      "Cbc0038I Pass   3: suminf.    4.61754 (27) obj. 217002 iterations 52\n",
      "Cbc0038I Pass   4: suminf.    4.61754 (27) obj. 217002 iterations 0\n",
      "Cbc0038I Pass   5: suminf.   26.82999 (89) obj. 227326 iterations 38\n",
      "Cbc0038I Pass   6: suminf.   18.25031 (81) obj. 235429 iterations 46\n",
      "Cbc0038I Pass   7: suminf.   17.91955 (81) obj. 235429 iterations 1\n",
      "Cbc0038I Pass   8: suminf.   19.55533 (65) obj. 259664 iterations 35\n",
      "Cbc0038I Pass   9: suminf.   19.55533 (65) obj. 259664 iterations 2\n",
      "Cbc0038I Pass  10: suminf.   19.27467 (63) obj. 246998 iterations 12\n",
      "Cbc0038I Pass  11: suminf.   24.20950 (75) obj. 268101 iterations 11\n",
      "Cbc0038I Pass  12: suminf.   24.24600 (75) obj. 271844 iterations 6\n",
      "Cbc0038I Pass  13: suminf.   20.15650 (48) obj. 309116 iterations 4\n",
      "Cbc0038I Pass  14: suminf.   24.24600 (75) obj. 271844 iterations 9\n",
      "Cbc0038I Pass  15: suminf.   18.21620 (63) obj. 312257 iterations 11\n",
      "Cbc0038I Pass  16: suminf.   22.89686 (86) obj. 325147 iterations 8\n",
      "Cbc0038I Pass  17: suminf.   22.72129 (86) obj. 325147 iterations 2\n",
      "Cbc0038I Pass  18: suminf.   22.44760 (72) obj. 261978 iterations 20\n",
      "Cbc0038I Pass  19: suminf.   18.61060 (64) obj. 311942 iterations 9\n",
      "Cbc0038I Pass  20: suminf.   29.27096 (130) obj. 121760 iterations 148\n",
      "Cbc0038I Pass  21: suminf.    4.21300 (56) obj. 120018 iterations 84\n",
      "Cbc0038I Pass  22: suminf.   22.10148 (84) obj. 152649 iterations 83\n",
      "Cbc0038I Pass  23: suminf.   20.60449 (96) obj. 184397 iterations 35\n",
      "Cbc0038I Pass  24: suminf.   25.67447 (122) obj. 200932 iterations 32\n",
      "Cbc0038I Pass  25: suminf.   18.13339 (100) obj. 217955 iterations 22\n",
      "Cbc0038I Pass  26: suminf.   18.13239 (99) obj. 217967 iterations 2\n",
      "Cbc0038I Pass  27: suminf.   22.14771 (108) obj. 209767 iterations 18\n",
      "Cbc0038I Pass  28: suminf.   16.84299 (111) obj. 245330 iterations 27\n",
      "Cbc0038I Pass  29: suminf.   30.59762 (118) obj. 248978 iterations 10\n",
      "Cbc0038I Pass  30: suminf.   20.75286 (121) obj. 264539 iterations 8\n",
      "Cbc0038I No solution found this major pass\n",
      "Cbc0038I Before mini branch and bound, 104 integers at bound fixed and 0 continuous\n",
      "Cbc0038I Full problem 919 rows 552 columns, reduced to 449 rows 264 columns\n",
      "Cbc0038I Mini branch and bound did not improve solution (0.33 seconds)\n",
      "Cbc0038I After 0.33 seconds - Feasibility pump exiting - took 0.08 seconds\n",
      "Cbc0031I 197 added rows had average density of 7.5989848\n",
      "Cbc0013I At root node, 197 cuts changed objective from 7259.5 to 18220.12 in 7 passes\n",
      "Cbc0014I Cut generator 0 (Probing) - 564 row cuts average 2.1 elements, 6 column cuts (160 active)  in 0.016 seconds - new frequency is 1\n",
      "Cbc0014I Cut generator 1 (Gomory) - 196 row cuts average 15.7 elements, 0 column cuts (0 active)  in 0.016 seconds - new frequency is 1\n",
      "Cbc0014I Cut generator 2 (Knapsack) - 77 row cuts average 2.0 elements, 0 column cuts (0 active)  in 0.000 seconds - new frequency is 1\n",
      "Cbc0014I Cut generator 3 (Clique) - 0 row cuts average 0.0 elements, 0 column cuts (0 active)  in 0.016 seconds - new frequency is -100\n",
      "Cbc0014I Cut generator 4 (MixedIntegerRounding2) - 3 row cuts average 7.0 elements, 0 column cuts (0 active)  in 0.016 seconds - new frequency is -100\n",
      "Cbc0014I Cut generator 5 (FlowCover) - 11 row cuts average 3.7 elements, 0 column cuts (0 active)  in 0.000 seconds - new frequency is -100\n",
      "Cbc0014I Cut generator 6 (TwoMirCuts) - 282 row cuts average 24.3 elements, 0 column cuts (0 active)  in 0.047 seconds - new frequency is 1\n",
      "Cbc0014I Cut generator 7 (ZeroHalf) - 58 row cuts average 4.2 elements, 0 column cuts (0 active)  in 0.094 seconds - new frequency is 1\n",
      "Cbc0010I After 0 nodes, 1 on tree, 1e+50 best solution, best possible 18220.12 (0.84 seconds)\n",
      "Cbc0010I After 1000 nodes, 19 on tree, 1e+50 best solution, best possible 20269.808 (40.22 seconds)\n",
      "Cbc0004I Integer solution of 60246 found after 131137 iterations and 1220 nodes (44.58 seconds)\n",
      "Cbc0012I Integer solution of 60246 found by heuristic after 131241 iterations and 1221 nodes (44.58 seconds)\n",
      "Cbc0012I Integer solution of 49994 found by heuristic after 208551 iterations and 1769 nodes (68.34 seconds)\n",
      "Cbc0010I After 2000 nodes, 213 on tree, 49994 best solution, best possible 20269.808 (78.44 seconds)\n",
      "Cbc0012I Integer solution of 48990 found by heuristic after 335211 iterations and 2635 nodes (96.61 seconds)\n",
      "Cbc0010I After 3000 nodes, 295 on tree, 48990 best solution, best possible 20269.808 (106.05 seconds)\n",
      "Cbc0010I After 4000 nodes, 307 on tree, 48990 best solution, best possible 20269.808 (128.94 seconds)\n",
      "Cbc0010I After 5000 nodes, 227 on tree, 48990 best solution, best possible 20269.808 (149.91 seconds)\n",
      "Cbc0010I After 6000 nodes, 19 on tree, 48990 best solution, best possible 20269.808 (173.59 seconds)\n",
      "Cbc0010I After 7000 nodes, 150 on tree, 48990 best solution, best possible 20269.808 (212.61 seconds)\n",
      "Cbc0010I After 8000 nodes, 68 on tree, 48990 best solution, best possible 20269.808 (241.31 seconds)\n",
      "Cbc0010I After 9000 nodes, 194 on tree, 48990 best solution, best possible 20269.808 (285.97 seconds)\n",
      "Cbc0010I After 10000 nodes, 150 on tree, 48990 best solution, best possible 20269.808 (316.39 seconds)\n",
      "Cbc0010I After 11000 nodes, 85 on tree, 48990 best solution, best possible 20269.808 (354.08 seconds)\n",
      "Cbc0010I After 12000 nodes, 443 on tree, 48990 best solution, best possible 32948.056 (432.44 seconds)\n",
      "Cbc0010I After 13000 nodes, 674 on tree, 48990 best solution, best possible 36548.222 (487.25 seconds)\n",
      "Cbc0010I After 14000 nodes, 912 on tree, 48990 best solution, best possible 36583.734 (525.33 seconds)\n",
      "Cbc0010I After 15000 nodes, 1033 on tree, 48990 best solution, best possible 39526.589 (564.16 seconds)\n",
      "Cbc0010I After 16000 nodes, 1154 on tree, 48990 best solution, best possible 41041.738 (599.17 seconds)\n",
      "Cbc0010I After 17000 nodes, 1272 on tree, 48990 best solution, best possible 42148.888 (631.86 seconds)\n",
      "Cbc0010I After 18000 nodes, 1300 on tree, 48990 best solution, best possible 42160.352 (657.70 seconds)\n",
      "Cbc0010I After 19000 nodes, 1323 on tree, 48990 best solution, best possible 43495.599 (690.70 seconds)\n",
      "Cbc0010I After 20000 nodes, 1316 on tree, 48990 best solution, best possible 44572.913 (721.97 seconds)\n",
      "Cbc0010I After 21000 nodes, 1272 on tree, 48990 best solution, best possible 45436.573 (749.70 seconds)\n",
      "Cbc0010I After 22000 nodes, 1006 on tree, 48990 best solution, best possible 45436.573 (768.69 seconds)\n",
      "Cbc0010I After 23000 nodes, 829 on tree, 48990 best solution, best possible 46549.574 (793.30 seconds)\n",
      "Cbc0010I After 24000 nodes, 528 on tree, 48990 best solution, best possible 47625.928 (815.28 seconds)\n",
      "Cbc0010I After 25000 nodes, 63 on tree, 48990 best solution, best possible 48759.42 (828.33 seconds)\n",
      "Cbc0030I Thread 0 used 6360 times,  waiting to start 0.93674731,  39444 locks, 1.4933007 locked, 0.12837648 waiting for locks\n",
      "Cbc0030I Thread 1 used 6317 times,  waiting to start 1.1607842,  39267 locks, 1.4614761 locked, 0.13334846 waiting for locks\n",
      "Cbc0030I Thread 2 used 6239 times,  waiting to start 1.6607013,  38367 locks, 1.4301403 locked, 0.12094235 waiting for locks\n",
      "Cbc0030I Thread 3 used 6215 times,  waiting to start 1.8023756,  38617 locks, 1.4189963 locked, 0.15617108 waiting for locks\n",
      "Cbc0030I Main thread 223.37856 waiting for threads,  50321 locks, 0.077987671 locked, 0.11276817 waiting for locks\n",
      "Cbc0001I Search completed - best objective 48990, took 3001844 iterations and 25131 nodes (828.98 seconds)\n",
      "Cbc0032I Strong branching done 24508 times (626779 iterations), fathomed 430 nodes and fixed 1784 variables\n",
      "Cbc0035I Maximum depth 54, 7479 variables fixed on reduced cost\n",
      "Cuts at root node changed objective from 7259.5 to 18220.1\n",
      "Probing was tried 33768 times and created 2139288 cuts of which 770 were active after adding rounds of cuts (97.500 seconds)\n",
      "Gomory was tried 29658 times and created 120315 cuts of which 0 were active after adding rounds of cuts (79.594 seconds)\n",
      "Knapsack was tried 29658 times and created 20127 cuts of which 0 were active after adding rounds of cuts (31.922 seconds)\n",
      "Clique was tried 35 times and created 0 cuts of which 0 were active after adding rounds of cuts (0.016 seconds)\n",
      "MixedIntegerRounding2 was tried 35 times and created 15 cuts of which 0 were active after adding rounds of cuts (0.016 seconds)\n",
      "FlowCover was tried 35 times and created 55 cuts of which 0 were active after adding rounds of cuts (0.000 seconds)\n",
      "TwoMirCuts was tried 29658 times and created 98234 cuts of which 0 were active after adding rounds of cuts (17.203 seconds)\n",
      "ZeroHalf was tried 29658 times and created 4590 cuts of which 0 were active after adding rounds of cuts (171.641 seconds)\n",
      "ImplicationCuts was tried 1334 times and created 1246 cuts of which 0 were active after adding rounds of cuts (0.062 seconds)\n",
      "\n",
      "Result - Optimal solution found\n",
      "\n",
      "Objective value:                48990.00000000\n",
      "Enumerated nodes:               25131\n",
      "Total iterations:               3001844\n",
      "Time (CPU seconds):             829.00\n",
      "Time (Wallclock seconds):       226.20\n",
      "\n",
      "Total time (CPU seconds):       829.03   (Wallclock seconds):       226.23\n",
      "\n"
     ]
    }
   ],
   "source": [
    "results = optimizer.solve(m,options = {\"threads\":4},tee = True)"
   ]
  },
  {
   "cell_type": "code",
   "execution_count": 16,
   "metadata": {},
   "outputs": [],
   "source": [
    "inv = m.inv.extract_values()"
   ]
  },
  {
   "cell_type": "code",
   "execution_count": 19,
   "metadata": {},
   "outputs": [],
   "source": [
    "col = ['time','inventory']\n",
    "df = pd.DataFrame(columns=col)\n",
    "for ivalues in inv.keys():\n",
    "    df = pd.concat([df,\n",
    "                    pd.DataFrame.from_records([{\n",
    "                                col[0]:ivalues,\n",
    "                                col[1]:inv[ivalues]\n",
    "                            }])],ignore_index=True)"
   ]
  },
  {
   "cell_type": "code",
   "execution_count": 24,
   "metadata": {},
   "outputs": [],
   "source": [
    "supply = m.repl.extract_values()"
   ]
  },
  {
   "cell_type": "code",
   "execution_count": 25,
   "metadata": {},
   "outputs": [],
   "source": [
    "col = ['time','supply']\n",
    "df_ = pd.DataFrame(columns=col)\n",
    "for ivalues in supply.keys():\n",
    "    df_ = pd.concat([df_,\n",
    "                    pd.DataFrame.from_records([{\n",
    "                                col[0]:ivalues,\n",
    "                                col[1]:supply[ivalues]\n",
    "                            }])],ignore_index=True)"
   ]
  },
  {
   "cell_type": "code",
   "execution_count": 29,
   "metadata": {},
   "outputs": [],
   "source": [
    "col = ['time','demand']\n",
    "df_demand = pd.DataFrame(columns=col)\n",
    "for ivalues in demand.keys():\n",
    "    df_demand = pd.concat([df_demand,\n",
    "                    pd.DataFrame.from_records([{\n",
    "                                col[0]:ivalues,\n",
    "                                col[1]:demand[ivalues]\n",
    "                            }])],ignore_index=True)"
   ]
  },
  {
   "cell_type": "code",
   "execution_count": 31,
   "metadata": {},
   "outputs": [],
   "source": [
    "import matplotlib.pyplot as plt"
   ]
  },
  {
   "cell_type": "code",
   "execution_count": 44,
   "metadata": {},
   "outputs": [
    {
     "data": {
      "text/plain": [
       "{None: 344.0}"
      ]
     },
     "execution_count": 44,
     "metadata": {},
     "output_type": "execute_result"
    }
   ],
   "source": [
    "repl"
   ]
  },
  {
   "cell_type": "code",
   "execution_count": 54,
   "metadata": {},
   "outputs": [
    {
     "data": {
      "image/png": "[encoded data removed]",
      "text/plain": [
       "<Figure size 640x480 with 2 Axes>"
      ]
     },
     "metadata": {},
     "output_type": "display_data"
    }
   ],
   "source": [
    "f, (a0,a1) = plt.subplots(2,1,gridspec_kw={'height_ratios': [1, 1/4]})\n",
    "\n",
    "a0.plot(df['time'],df['value'])\n",
    "a0.axhline(y = m.R(),color = 'r')\n",
    "a0.plot(df_demand['time'],df_demand['demand'], color = 'g')\n",
    "a0.legend(['inventory','Replenish','Demand'])\n",
    "a1.bar(df_['time'],df_['supply'],color ='#808080',width = 1)\n",
    "plt.show()"
   ]
  },
  {
   "cell_type": "code",
   "execution_count": null,
   "metadata": {},
   "outputs": [],
   "source": []
  }
 ],
 "metadata": {
  "kernelspec": {
   "display_name": "iff_opt",
   "language": "python",
   "name": "python3"
  },
  "language_info": {
   "codemirror_mode": {
    "name": "ipython",
    "version": 3
   },
   "file_extension": ".py",
   "mimetype": "text/x-python",
   "name": "python",
   "nbconvert_exporter": "python",
   "pygments_lexer": "ipython3",
   "version": "3.9.13"
  },
  "orig_nbformat": 4,
  "vscode": {
   "interpreter": {
    "hash": "9c357788b8b4f94dd356f27d98cb6761bcd9e45f55e2f5749a203bd7161b03cd"
   }
  }
 },
 "nbformat": 4,
 "nbformat_minor": 2
}
