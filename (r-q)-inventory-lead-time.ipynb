{
 "cells": [
  {
   "cell_type": "code",
   "execution_count": 1,
   "metadata": {},
   "outputs": [],
   "source": [
    "import pyomo.environ as pe\n",
    "import pandas as pd\n",
    "import numpy as np"
   ]
  },
  {
   "attachments": {},
   "cell_type": "markdown",
   "metadata": {},
   "source": [
    "### Data"
   ]
  },
  {
   "cell_type": "code",
   "execution_count": 2,
   "metadata": {},
   "outputs": [],
   "source": [
    "np.random.seed(120)"
   ]
  },
  {
   "cell_type": "code",
   "execution_count": 3,
   "metadata": {},
   "outputs": [],
   "source": [
    "plants = ['pl1', 'pl2']"
   ]
  },
  {
   "cell_type": "code",
   "execution_count": 4,
   "metadata": {},
   "outputs": [],
   "source": [
    "customer = ['cus1']"
   ]
  },
  {
   "cell_type": "code",
   "execution_count": 5,
   "metadata": {},
   "outputs": [],
   "source": [
    "demand = {}\n",
    "for c in customer:\n",
    "    d_aux = {}\n",
    "    for i in pe.RangeSet(1,100):\n",
    "        d_aux[i] = np.random.uniform(0,105)\n",
    "    demand[c] = d_aux  "
   ]
  },
  {
   "attachments": {},
   "cell_type": "markdown",
   "metadata": {},
   "source": [
    "### Parameters"
   ]
  },
  {
   "cell_type": "code",
   "execution_count": 6,
   "metadata": {},
   "outputs": [],
   "source": [
    "invCap = 1000        # inventory capacity\n",
    "maxQ = 1000          # max order quantity\n",
    "orderCost = 500      # cost for each order\n",
    "holdCost = 2         # holding cost (per unit, per time period)\n",
    "leadtime = 10        # lead time\n",
    "backLogCost = 10     # backlogged orders penalty (per unit, per time period)\n",
    "maxBackLogged = 1000 # big-M\n",
    "initialInv = 500    # initial inventory\n",
    "transp_cost = {'pl1': 2, 'pl2': 1}"
   ]
  },
  {
   "attachments": {},
   "cell_type": "markdown",
   "metadata": {},
   "source": [
    "### Model"
   ]
  },
  {
   "cell_type": "code",
   "execution_count": 7,
   "metadata": {},
   "outputs": [],
   "source": [
    "m = pe.ConcreteModel()"
   ]
  },
  {
   "cell_type": "code",
   "execution_count": 8,
   "metadata": {},
   "outputs": [],
   "source": [
    "# sets\n",
    "m.time = pe.Set(initialize = pe.RangeSet(1,100))\n",
    "m.cust = pe.Set(initialize = customer)\n",
    "m.plants = pe.Set(initialize = plants)"
   ]
  },
  {
   "cell_type": "code",
   "execution_count": 9,
   "metadata": {},
   "outputs": [],
   "source": [
    "# devision variables\n",
    "m.Q  = pe.Var(bounds=[0,maxQ],domain = pe.NonNegativeReals)\n",
    "m.R = pe.Var(bounds=[0,invCap],domain = pe.NonNegativeReals)\n",
    "m.inv = pe.Var(m.time,bounds=[0,invCap],domain = pe.NonNegativeReals)\n",
    "m.back = pe.Var(m.time,bounds = [0,maxBackLogged],domain = pe.NonNegativeReals)\n",
    "m.low = pe.Var(m.time,domain = pe.Binary)\n",
    "m.order = pe.Var(m.time,domain = pe.Binary)\n",
    "m.repl = pe.Var(m.time,m.plants,domain = pe.NonNegativeReals)\n",
    "m.delta = pe.Var(m.time,domain = pe.Binary)"
   ]
  },
  {
   "cell_type": "code",
   "execution_count": 10,
   "metadata": {},
   "outputs": [],
   "source": [
    "# objective\n",
    "\n",
    "def objective(model):\n",
    "    return orderCost * sum(m.order[t] for t in m.time) + holdCost * sum(m.inv[t] for t in m.time) + backLogCost * sum(m.back[t] for t in m.time) \\\n",
    "        + sum(transp_cost[p] * m.repl[t,p] for t in m.time for p in m.plants)\n",
    "m.objective = pe.Objective(rule = objective, sense = pe.minimize)"
   ]
  },
  {
   "cell_type": "code",
   "execution_count": 11,
   "metadata": {},
   "outputs": [],
   "source": [
    "# constraints\n",
    "\n",
    "# inventory balance\n",
    "def inv_balance(model,t):\n",
    "    if t == 1:\n",
    "        return m.inv[t] - m.back[t] == sum(m.repl[t,p] for p in m.plants) + initialInv - sum(demand[c][t] for c in m.cust)\n",
    "    else:\n",
    "        return m.inv[t] - m.back[t] == m.inv[t-1] - m.back[t-1] - sum(demand[c][t] for c in m.cust) + sum(m.repl[t,p] for p in m.plants)\n",
    "m.inv_balance = pe.Constraint(m.time,rule = inv_balance)\n",
    "\n",
    "# inventory cap delta\n",
    "def inv_cap_delta(model,t):\n",
    "    return m.inv[t] <= invCap * m.delta[t]\n",
    "m.inv_cap_delta = pe.Constraint(m.time,rule = inv_cap_delta)\n",
    "\n",
    "# backlogged\n",
    "def back_cap(model,t):\n",
    "    return m.back[t] <= maxBackLogged * (1-m.delta[t])\n",
    "m.back_cap = pe.Constraint(m.time,rule=back_cap)\n",
    "\n",
    "# inventory low first constraint\n",
    "def inv_low_1(model,t):\n",
    "    return m.inv[t] <= m.R + invCap * (1 - m.low[t])\n",
    "m.inv_low_1 = pe.Constraint(m.time,rule=inv_low_1)\n",
    "\n",
    "# inventory low second constraint\n",
    "def inv_low_2(model,t):\n",
    "    return m.inv[t] >= m.R + 1 - (invCap + 1) * m.low[t]\n",
    "m.inv_low_2 = pe.Constraint(m.time,rule = inv_low_2)\n",
    "\n",
    "# inventory reorder first constraint\n",
    "def reorder_1(model,t):\n",
    "    if t > 1:\n",
    "        return m.order[t] <= 1 - m.low[t-1]\n",
    "    else:\n",
    "        return m.order[t] <= 1\n",
    "m.reorder_1 = pe.Constraint(m.time,rule = reorder_1)\n",
    "\n",
    "# inventory reorder second constraint\n",
    "def reorder_2(model,t):\n",
    "    return m.order[t] <= m.low[t]\n",
    "m.reorder_2 = pe.Constraint(m.time,rule = reorder_2)\n",
    "\n",
    "# inventory reorder third constraint\n",
    "def reorder_3(model,t):\n",
    "    if t > 1:\n",
    "        return m.order[t] >= m.low[t] - m.low[t-1]\n",
    "    else:\n",
    "        return m.order[t] >= m.low[t]\n",
    "    \n",
    "# inventory replenish first constraint   \n",
    "def inv_replen(model,t):\n",
    "    if t > leadtime:\n",
    "        return sum(m.repl[t,p] for p in m.plants) <= maxQ * m.order[t-leadtime]\n",
    "    else:\n",
    "        return sum(m.repl[t,p] for p in m.plants) <= 0\n",
    "m.inv_replen = pe.Constraint(m.time,rule = inv_replen)\n",
    "\n",
    "# inventory replenish second constraint \n",
    "def inv_replen_2(model,t):\n",
    "    return sum(m.repl[t,p] for p in m.plants) <= m.Q\n",
    "m.inv_replen_2 = pe.Constraint(m.time,rule=inv_replen_2)\n",
    "\n",
    "# inventory replenish third constraint \n",
    "def inv_replen_3(model,t):\n",
    "    if t > leadtime:\n",
    "        return sum(m.repl[t,p] for p in m.plants) >= m.Q - maxQ * (1 - m.order[t-leadtime])\n",
    "    else:\n",
    "        return sum(m.repl[t,p] for p in m.plants) >= m.Q - maxQ\n",
    "m.inv_replen_3 = pe.Constraint(m.time,rule = inv_replen_3)"
   ]
  },
  {
   "cell_type": "code",
   "execution_count": 12,
   "metadata": {},
   "outputs": [],
   "source": [
    "optimizer = pe.SolverFactory('cbc')"
   ]
  },
  {
   "cell_type": "code",
   "execution_count": 13,
   "metadata": {},
   "outputs": [
    {
     "name": "stdout",
     "output_type": "stream",
     "text": [
      "Welcome to the CBC MILP Solver \n",
      "Version: 2.10.5 \n",
      "Build Date: Dec  8 2020 \n",
      "\n",
      "command line - /home/victormoura/anaconda3/envs/iff_opt/bin/cbc -threads 4 -printingOptions all -import /tmp/tmpq7nddorm.pyomo.lp -stat=1 -solve -solu /tmp/tmpq7nddorm.pyomo.soln (default strategy 1)\n",
      "threads was changed from 0 to 4\n",
      "Option for printingOptions changed from normal to all\n",
      "Presolve 959 (-42) rows, 582 (-121) columns and 2476 (-502) elements\n",
      "Statistics for presolved model\n",
      "Original problem has 300 integers (300 of which binary)\n",
      "Presolved problem has 300 integers (300 of which binary)\n",
      "==== 202 zero objective 6 different\n",
      "202 variables have objective of 0\n",
      "90 variables have objective of 1\n",
      "90 variables have objective of 2\n",
      "90 variables have objective of 10\n",
      "10 variables have objective of 12\n",
      "100 variables have objective of 500\n",
      "==== absolute objective values 6 different\n",
      "202 variables have objective of 0\n",
      "90 variables have objective of 1\n",
      "90 variables have objective of 2\n",
      "90 variables have objective of 10\n",
      "10 variables have objective of 12\n",
      "100 variables have objective of 500\n",
      "==== for integers 200 zero objective 2 different\n",
      "200 variables have objective of 0\n",
      "100 variables have objective of 500\n",
      "==== for integers absolute objective values 2 different\n",
      "200 variables have objective of 0\n",
      "100 variables have objective of 500\n",
      "===== end objective counts\n",
      "\n",
      "\n",
      "Problem has 959 rows, 582 columns (380 with objective) and 2476 elements\n",
      "Column breakdown:\n",
      "90 of type 0.0->inf, 186 of type 0.0->up, 0 of type lo->inf, \n",
      "6 of type lo->up, 0 of type free, 0 of type fixed, \n",
      "0 of type -inf->0.0, 0 of type -inf->up, 300 of type 0.0->1.0 \n",
      "Row breakdown:\n",
      "0 of type E 0.0, 0 of type E 1.0, 0 of type E -1.0, \n",
      "90 of type E other, 0 of type G 0.0, 0 of type G 1.0, \n",
      "0 of type G other, 377 of type L 0.0, 99 of type L 1.0, \n",
      "393 of type L other, 0 of type Range 0.0->1.0, 0 of type Range other, \n",
      "0 of type Free \n",
      "Continuous objective value is 14104.8 - 0.06 seconds\n",
      "Cgl0003I 6 fixed, 0 tightened bounds, 116 strengthened rows, 0 substitutions\n",
      "Cgl0003I 0 fixed, 0 tightened bounds, 28 strengthened rows, 0 substitutions\n",
      "Cgl0003I 0 fixed, 0 tightened bounds, 16 strengthened rows, 0 substitutions\n",
      "Cgl0003I 0 fixed, 0 tightened bounds, 10 strengthened rows, 0 substitutions\n",
      "Cgl0003I 0 fixed, 0 tightened bounds, 4 strengthened rows, 0 substitutions\n",
      "Cgl0003I 0 fixed, 0 tightened bounds, 1 strengthened rows, 0 substitutions\n",
      "Cgl0004I processed model has 897 rows, 543 columns (274 integer (274 of which binary)) and 2490 elements\n",
      "Cbc0038I Initial state - 187 integers unsatisfied sum - 41.6564\n",
      "Cbc0038I Pass   1: suminf.    5.78116 (17) obj. 515225 iterations 414\n",
      "Cbc0038I Pass   2: suminf.    3.70113 (21) obj. 421213 iterations 36\n",
      "Cbc0038I Pass   3: suminf.    2.87550 (26) obj. 356268 iterations 55\n",
      "Cbc0038I Pass   4: suminf.    2.47586 (24) obj. 382245 iterations 1\n",
      "Cbc0038I Pass   5: suminf.    1.32389 (16) obj. 329393 iterations 44\n",
      "Cbc0038I Pass   6: suminf.    1.32289 (14) obj. 329405 iterations 2\n",
      "Cbc0038I Pass   7: suminf.    0.14518 (10) obj. 328234 iterations 12\n",
      "Cbc0038I Pass   8: suminf.    0.17810 (16) obj. 377977 iterations 11\n",
      "Cbc0038I Pass   9: suminf.    0.10108 (14) obj. 421701 iterations 23\n",
      "Cbc0038I Pass  10: suminf.    0.24359 (11) obj. 398979 iterations 11\n",
      "Cbc0038I Pass  11: suminf.    5.81971 (57) obj. 228673 iterations 115\n",
      "Cbc0038I Pass  12: suminf.    3.73202 (57) obj. 178183 iterations 59\n",
      "Cbc0038I Pass  13: suminf.    1.19477 (36) obj. 245397 iterations 57\n",
      "Cbc0038I Pass  14: suminf.    0.40260 (30) obj. 371300 iterations 25\n",
      "Cbc0038I Pass  15: suminf.    0.16766 (28) obj. 383302 iterations 12\n",
      "Cbc0038I Pass  16: suminf.    1.22817 (31) obj. 406412 iterations 12\n",
      "Cbc0038I Pass  17: suminf.    0.84276 (30) obj. 407411 iterations 14\n",
      "Cbc0038I Pass  18: suminf.    0.02799 (28) obj. 407115 iterations 4\n",
      "Cbc0038I Pass  19: suminf.    0.78873 (28) obj. 407115 iterations 2\n",
      "Cbc0038I Pass  20: suminf.    5.57064 (78) obj. 123139 iterations 148\n",
      "Cbc0038I Pass  21: suminf.    3.79285 (79) obj. 143891 iterations 61\n",
      "Cbc0038I Pass  22: suminf.    1.29442 (42) obj. 183357 iterations 73\n",
      "Cbc0038I Pass  23: suminf.    0.86515 (39) obj. 183463 iterations 3\n",
      "Cbc0038I Pass  24: suminf.    0.19045 (33) obj. 324716 iterations 22\n",
      "Cbc0038I Pass  25: suminf.    0.71158 (36) obj. 298433 iterations 15\n",
      "Cbc0038I Pass  26: suminf.    0.79883 (38) obj. 312941 iterations 18\n",
      "Cbc0038I Pass  27: suminf.    0.46126 (36) obj. 328488 iterations 19\n",
      "Cbc0038I Pass  28: suminf.    0.46026 (35) obj. 328487 iterations 1\n",
      "Cbc0038I Pass  29: suminf.    0.32910 (35) obj. 352478 iterations 14\n",
      "Cbc0038I Pass  30: suminf.    0.03199 (32) obj. 343588 iterations 4\n",
      "Cbc0038I No solution found this major pass\n",
      "Cbc0038I Before mini branch and bound, 40 integers at bound fixed and 50 continuous\n",
      "Cbc0038I Full problem 897 rows 543 columns, reduced to 475 rows 289 columns - too large\n",
      "Cbc0038I Mini branch and bound did not improve solution (0.41 seconds)\n",
      "Cbc0038I Full problem 898 rows 543 columns, reduced to 898 rows 543 columns - too large\n",
      "Cbc0038I After 0.42 seconds - Feasibility pump exiting - took 0.11 seconds\n",
      "Cbc0031I 238 added rows had average density of 4.3823529\n",
      "Cbc0013I At root node, 238 cuts changed objective from 14337.698 to 28829.567 in 9 passes\n",
      "Cbc0014I Cut generator 0 (Probing) - 601 row cuts average 2.2 elements, 3 column cuts (168 active)  in 0.000 seconds - new frequency is 1\n",
      "Cbc0014I Cut generator 1 (Gomory) - 126 row cuts average 11.8 elements, 0 column cuts (0 active)  in 0.016 seconds - new frequency is 1\n",
      "Cbc0014I Cut generator 2 (Knapsack) - 86 row cuts average 2.1 elements, 0 column cuts (0 active)  in 0.000 seconds - new frequency is 1\n",
      "Cbc0014I Cut generator 3 (Clique) - 0 row cuts average 0.0 elements, 0 column cuts (0 active)  in 0.016 seconds - new frequency is -100\n",
      "Cbc0014I Cut generator 4 (MixedIntegerRounding2) - 298 row cuts average 4.6 elements, 0 column cuts (0 active)  in 0.000 seconds - new frequency is 1\n",
      "Cbc0014I Cut generator 5 (FlowCover) - 1 row cuts average 3.0 elements, 0 column cuts (0 active)  in 0.000 seconds - new frequency is -100\n",
      "Cbc0014I Cut generator 6 (TwoMirCuts) - 196 row cuts average 14.1 elements, 0 column cuts (0 active)  in 0.047 seconds - new frequency is 1\n",
      "Cbc0010I After 0 nodes, 1 on tree, 1e+50 best solution, best possible 28829.567 (0.88 seconds)\n",
      "Cbc0010I After 1000 nodes, 43 on tree, 1e+50 best solution, best possible 29355.82 (23.09 seconds)\n",
      "Cbc0010I After 2000 nodes, 48 on tree, 1e+50 best solution, best possible 29355.82 (39.73 seconds)\n",
      "Cbc0010I After 3000 nodes, 74 on tree, 1e+50 best solution, best possible 29355.82 (54.19 seconds)\n",
      "Cbc0012I Integer solution of 80737.462 found by rounding after 310030 iterations and 3706 nodes (63.70 seconds)\n",
      "Cbc0012I Integer solution of 80737.462 found by heuristic after 310294 iterations and 3714 nodes (63.70 seconds)\n",
      "Cbc0010I After 4000 nodes, 136 on tree, 80737.462 best solution, best possible 29355.82 (71.14 seconds)\n",
      "Cbc0010I After 5000 nodes, 300 on tree, 80737.462 best solution, best possible 29355.82 (86.69 seconds)\n",
      "Cbc0012I Integer solution of 69986.581 found by heuristic after 482157 iterations and 5420 nodes (92.78 seconds)\n",
      "Cbc0012I Integer solution of 69928.582 found by heuristic after 482329 iterations and 5422 nodes (92.78 seconds)\n",
      "Cbc0010I After 6000 nodes, 435 on tree, 69928.582 best solution, best possible 30043.151 (103.66 seconds)\n",
      "Cbc0010I After 7000 nodes, 727 on tree, 69928.582 best solution, best possible 30130.063 (122.58 seconds)\n",
      "Cbc0010I After 8000 nodes, 951 on tree, 69928.582 best solution, best possible 30130.063 (138.95 seconds)\n",
      "Cbc0010I After 9000 nodes, 1170 on tree, 69928.582 best solution, best possible 30130.063 (153.27 seconds)\n",
      "Cbc0010I After 10000 nodes, 1363 on tree, 69928.582 best solution, best possible 30130.063 (166.11 seconds)\n",
      "Cbc0010I After 11000 nodes, 1543 on tree, 69928.582 best solution, best possible 30130.063 (180.97 seconds)\n",
      "Cbc0010I After 12000 nodes, 1845 on tree, 69928.582 best solution, best possible 47360.967 (211.30 seconds)\n",
      "Cbc0010I After 13000 nodes, 2081 on tree, 69928.582 best solution, best possible 49783.859 (237.62 seconds)\n",
      "Cbc0010I After 14000 nodes, 2284 on tree, 69928.582 best solution, best possible 49790.177 (257.20 seconds)\n",
      "Cbc0010I After 15000 nodes, 2491 on tree, 69928.582 best solution, best possible 51847.179 (283.39 seconds)\n",
      "Cbc0010I After 16000 nodes, 2679 on tree, 69928.582 best solution, best possible 53065.06 (306.09 seconds)\n",
      "Cbc0010I After 17000 nodes, 2859 on tree, 69928.582 best solution, best possible 53965.304 (326.75 seconds)\n",
      "Cbc0010I After 18000 nodes, 3009 on tree, 69928.582 best solution, best possible 53965.304 (344.27 seconds)\n",
      "Cbc0010I After 19000 nodes, 3180 on tree, 69928.582 best solution, best possible 54848.877 (365.09 seconds)\n",
      "Cbc0010I After 20000 nodes, 3363 on tree, 69928.582 best solution, best possible 55508.331 (382.98 seconds)\n",
      "Cbc0010I After 21000 nodes, 3512 on tree, 69928.582 best solution, best possible 56039.206 (401.30 seconds)\n",
      "Cbc0010I After 22000 nodes, 3680 on tree, 69928.582 best solution, best possible 56042.408 (414.83 seconds)\n",
      "Cbc0010I After 23000 nodes, 3805 on tree, 69928.582 best solution, best possible 56598.888 (432.62 seconds)\n",
      "Cbc0010I After 24000 nodes, 3942 on tree, 69928.582 best solution, best possible 57054.227 (449.73 seconds)\n",
      "Cbc0010I After 25000 nodes, 4066 on tree, 69928.582 best solution, best possible 57423.534 (466.44 seconds)\n",
      "Cbc0010I After 26000 nodes, 4181 on tree, 69928.582 best solution, best possible 57427.591 (479.78 seconds)\n",
      "Cbc0010I After 27000 nodes, 4317 on tree, 69928.582 best solution, best possible 57834.812 (498.98 seconds)\n",
      "Cbc0010I After 28000 nodes, 4450 on tree, 69928.582 best solution, best possible 58193.814 (518.38 seconds)\n",
      "Cbc0010I After 29000 nodes, 4591 on tree, 69928.582 best solution, best possible 58503.905 (539.33 seconds)\n",
      "Cbc0012I Integer solution of 67485.263 found by heuristic after 2748238 iterations and 29218 nodes (542.14 seconds)\n",
      "Cbc0012I Integer solution of 67204.953 found by heuristic after 2748685 iterations and 29226 nodes (542.28 seconds)\n",
      "Cbc0012I Integer solution of 66919.777 found by heuristic after 2773549 iterations and 29500 nodes (546.05 seconds)\n",
      "Cbc0010I After 30000 nodes, 4320 on tree, 66919.777 best solution, best possible 58506.336 (552.91 seconds)\n",
      "Cbc0010I After 31000 nodes, 4419 on tree, 66919.777 best solution, best possible 58882.284 (570.41 seconds)\n",
      "Cbc0010I After 32000 nodes, 4509 on tree, 66919.777 best solution, best possible 59211.119 (587.20 seconds)\n",
      "Cbc0010I After 33000 nodes, 4606 on tree, 66919.777 best solution, best possible 59543.404 (604.80 seconds)\n",
      "Cbc0012I Integer solution of 66747.179 found by heuristic after 3111837 iterations and 33561 nodes (612.61 seconds)\n",
      "Cbc0010I After 34000 nodes, 4558 on tree, 66747.179 best solution, best possible 59544.604 (617.69 seconds)\n",
      "Cbc0010I After 35000 nodes, 4627 on tree, 66747.179 best solution, best possible 59863.997 (634.00 seconds)\n",
      "Cbc0010I After 36000 nodes, 4701 on tree, 66747.179 best solution, best possible 60133.106 (649.30 seconds)\n",
      "Cbc0010I After 37000 nodes, 4755 on tree, 66747.179 best solution, best possible 60412.548 (664.48 seconds)\n",
      "Cbc0010I After 38000 nodes, 4733 on tree, 66747.179 best solution, best possible 60412.903 (677.83 seconds)\n",
      "Cbc0010I After 39000 nodes, 4791 on tree, 66747.179 best solution, best possible 60726.652 (694.08 seconds)\n",
      "Cbc0010I After 40000 nodes, 4832 on tree, 66747.179 best solution, best possible 61014.118 (709.73 seconds)\n",
      "Cbc0010I After 41000 nodes, 4878 on tree, 66747.179 best solution, best possible 61281.079 (725.84 seconds)\n",
      "Cbc0010I After 42000 nodes, 4765 on tree, 66747.179 best solution, best possible 61281.303 (737.31 seconds)\n",
      "Cbc0010I After 43000 nodes, 4786 on tree, 66747.179 best solution, best possible 61553.288 (753.81 seconds)\n",
      "Cbc0010I After 44000 nodes, 4793 on tree, 66747.179 best solution, best possible 61821.563 (769.50 seconds)\n",
      "Cbc0010I After 45000 nodes, 4776 on tree, 66747.179 best solution, best possible 62071.09 (786.41 seconds)\n",
      "Cbc0010I After 46000 nodes, 4611 on tree, 66747.179 best solution, best possible 62071.835 (797.97 seconds)\n",
      "Cbc0010I After 47000 nodes, 4562 on tree, 66747.179 best solution, best possible 62356.278 (816.50 seconds)\n",
      "Cbc0010I After 48000 nodes, 4517 on tree, 66747.179 best solution, best possible 62624.633 (834.12 seconds)\n",
      "Cbc0010I After 49000 nodes, 4442 on tree, 66747.179 best solution, best possible 62880.472 (852.14 seconds)\n",
      "Cbc0010I After 50000 nodes, 4209 on tree, 66747.179 best solution, best possible 62880.774 (863.17 seconds)\n",
      "Cbc0010I After 51000 nodes, 4138 on tree, 66747.179 best solution, best possible 63176.869 (881.22 seconds)\n",
      "Cbc0010I After 52000 nodes, 4041 on tree, 66747.179 best solution, best possible 63464.509 (898.02 seconds)\n",
      "Cbc0010I After 53000 nodes, 3927 on tree, 66747.179 best solution, best possible 63739.206 (915.03 seconds)\n",
      "Cbc0010I After 54000 nodes, 3598 on tree, 66747.179 best solution, best possible 63739.206 (926.11 seconds)\n",
      "Cbc0010I After 55000 nodes, 3405 on tree, 66747.179 best solution, best possible 64033.007 (945.86 seconds)\n",
      "Cbc0010I After 56000 nodes, 3203 on tree, 66747.179 best solution, best possible 64314.697 (964.33 seconds)\n",
      "Cbc0010I After 57000 nodes, 2959 on tree, 66747.179 best solution, best possible 64588.073 (982.09 seconds)\n",
      "Cbc0010I After 58000 nodes, 2555 on tree, 66747.179 best solution, best possible 64588.073 (991.11 seconds)\n",
      "Cbc0010I After 59000 nodes, 2278 on tree, 66747.179 best solution, best possible 64930.981 (1009.36 seconds)\n",
      "Cbc0010I After 60000 nodes, 1946 on tree, 66747.179 best solution, best possible 65234.401 (1025.72 seconds)\n",
      "Cbc0010I After 61000 nodes, 1548 on tree, 66747.179 best solution, best possible 65567.919 (1039.45 seconds)\n",
      "Cbc0010I After 62000 nodes, 1073 on tree, 66747.179 best solution, best possible 65568.486 (1046.20 seconds)\n",
      "Cbc0010I After 63000 nodes, 616 on tree, 66747.179 best solution, best possible 66061.408 (1057.53 seconds)\n",
      "Cbc0010I After 64000 nodes, 131 on tree, 66747.179 best solution, best possible 66578.177 (1064.80 seconds)\n",
      "Cbc0030I Thread 0 used 16296 times,  waiting to start 1.7291856,  100931 locks, 2.775733 locked, 0.34311557 waiting for locks\n",
      "Cbc0030I Thread 1 used 15717 times,  waiting to start 2.1399224,  97572 locks, 2.7155437 locked, 0.35950732 waiting for locks\n",
      "Cbc0030I Thread 2 used 16042 times,  waiting to start 2.3534567,  99276 locks, 2.7802842 locked, 0.41174626 waiting for locks\n",
      "Cbc0030I Thread 3 used 16211 times,  waiting to start 2.2586215,  100852 locks, 2.7953157 locked, 0.37888026 waiting for locks\n",
      "Cbc0030I Main thread 284.69697 waiting for threads,  128673 locks, 0.2088728 locked, 0.35322928 waiting for locks\n",
      "Cbc0001I Search completed - best objective 66747.17937039208, took 5306093 iterations and 64266 nodes (1065.75 seconds)\n",
      "Cbc0032I Strong branching done 88668 times (2497196 iterations), fathomed 2570 nodes and fixed 18197 variables\n",
      "Cbc0035I Maximum depth 65, 10716 variables fixed on reduced cost\n",
      "Cuts at root node changed objective from 14337.7 to 28829.6\n",
      "Probing was tried 80672 times and created 2209098 cuts of which 825 were active after adding rounds of cuts (83.234 seconds)\n",
      "Gomory was tried 74315 times and created 187581 cuts of which 0 were active after adding rounds of cuts (79.422 seconds)\n",
      "Knapsack was tried 74315 times and created 25136 cuts of which 0 were active after adding rounds of cuts (61.516 seconds)\n",
      "Clique was tried 45 times and created 0 cuts of which 0 were active after adding rounds of cuts (0.016 seconds)\n",
      "MixedIntegerRounding2 was tried 74315 times and created 133245 cuts of which 0 were active after adding rounds of cuts (49.266 seconds)\n",
      "FlowCover was tried 45 times and created 5 cuts of which 0 were active after adding rounds of cuts (0.000 seconds)\n",
      "TwoMirCuts was tried 74315 times and created 1673 cuts of which 0 were active after adding rounds of cuts (20.516 seconds)\n",
      "ZeroHalf was tried 5 times and created 0 cuts of which 0 were active after adding rounds of cuts (0.000 seconds)\n",
      "ImplicationCuts was tried 631 times and created 895 cuts of which 0 were active after adding rounds of cuts (0.109 seconds)\n",
      "\n",
      "Result - Optimal solution found\n",
      "\n",
      "Objective value:                66747.17937039\n",
      "Enumerated nodes:               64266\n",
      "Total iterations:               5306093\n",
      "Time (CPU seconds):             1065.78\n",
      "Time (Wallclock seconds):       289.08\n",
      "\n",
      "Total time (CPU seconds):       1065.78   (Wallclock seconds):       289.12\n",
      "\n"
     ]
    }
   ],
   "source": [
    "results = optimizer.solve(m,options = {\"threads\":4},tee = True)"
   ]
  },
  {
   "cell_type": "code",
   "execution_count": 14,
   "metadata": {},
   "outputs": [],
   "source": [
    "inv = m.inv.extract_values()"
   ]
  },
  {
   "cell_type": "code",
   "execution_count": 15,
   "metadata": {},
   "outputs": [],
   "source": [
    "col = ['time','inventory']\n",
    "df = pd.DataFrame(columns=col)\n",
    "for ivalues in inv.keys():\n",
    "    df = pd.concat([df,\n",
    "                    pd.DataFrame.from_records([{\n",
    "                                col[0]:ivalues,\n",
    "                                col[1]:inv[ivalues]\n",
    "                            }])],ignore_index=True)"
   ]
  },
  {
   "cell_type": "code",
   "execution_count": 16,
   "metadata": {},
   "outputs": [],
   "source": [
    "supply = m.repl.extract_values()"
   ]
  },
  {
   "cell_type": "code",
   "execution_count": 19,
   "metadata": {},
   "outputs": [],
   "source": [
    "col = ['time','plant','supply']\n",
    "df_ = pd.DataFrame(columns=col)\n",
    "for ivalues in supply.keys():\n",
    "    df_ = pd.concat([df_,\n",
    "                    pd.DataFrame.from_records([{\n",
    "                                col[0]:ivalues[0],\n",
    "                                col[1]:ivalues[1],\n",
    "                                col[2]:supply[ivalues]\n",
    "                            }])],ignore_index=True)"
   ]
  },
  {
   "cell_type": "code",
   "execution_count": 21,
   "metadata": {},
   "outputs": [],
   "source": [
    "col = ['time','demand']\n",
    "df_demand = pd.DataFrame(columns=col)\n",
    "for ivalues in demand['cus1'].keys():\n",
    "    df_demand = pd.concat([df_demand,\n",
    "                    pd.DataFrame.from_records([{\n",
    "                                col[0]:ivalues,\n",
    "                                col[1]:demand['cus1'][ivalues]\n",
    "                            }])],ignore_index=True)"
   ]
  },
  {
   "cell_type": "code",
   "execution_count": 22,
   "metadata": {},
   "outputs": [],
   "source": [
    "import matplotlib.pyplot as plt"
   ]
  },
  {
   "cell_type": "code",
   "execution_count": 23,
   "metadata": {},
   "outputs": [
    {
     "data": {
      "image/png": "[encoded data removed]",
      "text/plain": [
       "<Figure size 640x480 with 2 Axes>"
      ]
     },
     "metadata": {},
     "output_type": "display_data"
    }
   ],
   "source": [
    "f, (a0,a1) = plt.subplots(2,1,gridspec_kw={'height_ratios': [1, 1/4]})\n",
    "\n",
    "a0.plot(df['time'],df['inventory'])\n",
    "a0.axhline(y = m.R(),color = 'r')\n",
    "a0.plot(df_demand['time'],df_demand['demand'], color = 'g')\n",
    "a0.legend(['inventory','Replenish','Demand'])\n",
    "a1.bar(df_['time'],df_['supply'],color ='#808080',width = 1)\n",
    "plt.show()"
   ]
  },
  {
   "cell_type": "code",
   "execution_count": null,
   "metadata": {},
   "outputs": [],
   "source": []
  }
 ],
 "metadata": {
  "kernelspec": {
   "display_name": "iff_opt",
   "language": "python",
   "name": "python3"
  },
  "language_info": {
   "codemirror_mode": {
    "name": "ipython",
    "version": 3
   },
   "file_extension": ".py",
   "mimetype": "text/x-python",
   "name": "python",
   "nbconvert_exporter": "python",
   "pygments_lexer": "ipython3",
   "version": "3.9.13"
  },
  "orig_nbformat": 4,
  "vscode": {
   "interpreter": {
    "hash": "9c357788b8b4f94dd356f27d98cb6761bcd9e45f55e2f5749a203bd7161b03cd"
   }
  }
 },
 "nbformat": 4,
 "nbformat_minor": 2
}
